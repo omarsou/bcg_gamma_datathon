{
 "cells": [
  {
   "cell_type": "code",
   "execution_count": 1,
   "metadata": {},
   "outputs": [],
   "source": [
    "import pandas as pd\n",
    "import numpy as np\n",
    "import pandas as pd\n",
    "from sklearn.ensemble import GradientBoostingRegressor\n",
    "from lightgbm import LGBMRegressor\n",
    "from sklearn.model_selection import train_test_split\n",
    "from sklearn.pipeline import make_pipeline, make_union\n",
    "from tpot.builtins import StackingEstimator\n",
    "from xgboost import XGBRegressor\n",
    "import copy"
   ]
  },
  {
   "cell_type": "code",
   "execution_count": 2,
   "metadata": {},
   "outputs": [
    {
     "data": {
      "text/html": [
       "<div>\n",
       "<style scoped>\n",
       "    .dataframe tbody tr th:only-of-type {\n",
       "        vertical-align: middle;\n",
       "    }\n",
       "\n",
       "    .dataframe tbody tr th {\n",
       "        vertical-align: top;\n",
       "    }\n",
       "\n",
       "    .dataframe thead th {\n",
       "        text-align: right;\n",
       "    }\n",
       "</style>\n",
       "<table border=\"1\" class=\"dataframe\">\n",
       "  <thead>\n",
       "    <tr style=\"text-align: right;\">\n",
       "      <th></th>\n",
       "      <th>Datetime</th>\n",
       "      <th>temp</th>\n",
       "      <th>templow</th>\n",
       "      <th>icon</th>\n",
       "      <th>baro</th>\n",
       "      <th>hum</th>\n",
       "      <th>rain</th>\n",
       "      <th>fog</th>\n",
       "      <th>thunder</th>\n",
       "      <th>snow</th>\n",
       "      <th>...</th>\n",
       "      <th>desc_Light rain. Passing clouds.</th>\n",
       "      <th>desc_Low clouds.</th>\n",
       "      <th>desc_More clouds than sun.</th>\n",
       "      <th>desc_Mostly cloudy.</th>\n",
       "      <th>desc_Overcast.</th>\n",
       "      <th>desc_Partly cloudy.</th>\n",
       "      <th>desc_Partly sunny.</th>\n",
       "      <th>desc_Passing clouds.</th>\n",
       "      <th>desc_Scattered clouds.</th>\n",
       "      <th>desc_Sunny.</th>\n",
       "    </tr>\n",
       "  </thead>\n",
       "  <tbody>\n",
       "    <tr>\n",
       "      <th>0</th>\n",
       "      <td>2019-10-01 00:00:00</td>\n",
       "      <td>2.0</td>\n",
       "      <td>1.0</td>\n",
       "      <td>13.0</td>\n",
       "      <td>1026.0</td>\n",
       "      <td>88.0</td>\n",
       "      <td>0.0</td>\n",
       "      <td>0.0</td>\n",
       "      <td>0.0</td>\n",
       "      <td>0.0</td>\n",
       "      <td>...</td>\n",
       "      <td>0.0</td>\n",
       "      <td>0.0</td>\n",
       "      <td>0.0</td>\n",
       "      <td>0.0</td>\n",
       "      <td>0.0</td>\n",
       "      <td>0.0</td>\n",
       "      <td>0.0</td>\n",
       "      <td>0.0</td>\n",
       "      <td>0.0</td>\n",
       "      <td>0.0</td>\n",
       "    </tr>\n",
       "    <tr>\n",
       "      <th>1</th>\n",
       "      <td>2019-10-01 01:00:00</td>\n",
       "      <td>1.0</td>\n",
       "      <td>1.0</td>\n",
       "      <td>13.0</td>\n",
       "      <td>1026.0</td>\n",
       "      <td>88.0</td>\n",
       "      <td>0.0</td>\n",
       "      <td>0.0</td>\n",
       "      <td>0.0</td>\n",
       "      <td>0.0</td>\n",
       "      <td>...</td>\n",
       "      <td>0.0</td>\n",
       "      <td>0.0</td>\n",
       "      <td>0.0</td>\n",
       "      <td>0.0</td>\n",
       "      <td>0.0</td>\n",
       "      <td>0.0</td>\n",
       "      <td>0.0</td>\n",
       "      <td>0.0</td>\n",
       "      <td>0.0</td>\n",
       "      <td>0.0</td>\n",
       "    </tr>\n",
       "    <tr>\n",
       "      <th>2</th>\n",
       "      <td>2019-10-01 02:00:00</td>\n",
       "      <td>1.0</td>\n",
       "      <td>1.0</td>\n",
       "      <td>13.0</td>\n",
       "      <td>1026.0</td>\n",
       "      <td>88.0</td>\n",
       "      <td>0.0</td>\n",
       "      <td>0.0</td>\n",
       "      <td>0.0</td>\n",
       "      <td>0.0</td>\n",
       "      <td>...</td>\n",
       "      <td>0.0</td>\n",
       "      <td>0.0</td>\n",
       "      <td>0.0</td>\n",
       "      <td>0.0</td>\n",
       "      <td>0.0</td>\n",
       "      <td>0.0</td>\n",
       "      <td>0.0</td>\n",
       "      <td>0.0</td>\n",
       "      <td>0.0</td>\n",
       "      <td>0.0</td>\n",
       "    </tr>\n",
       "    <tr>\n",
       "      <th>3</th>\n",
       "      <td>2019-10-01 03:00:00</td>\n",
       "      <td>1.0</td>\n",
       "      <td>1.0</td>\n",
       "      <td>13.0</td>\n",
       "      <td>1026.0</td>\n",
       "      <td>88.0</td>\n",
       "      <td>0.0</td>\n",
       "      <td>0.0</td>\n",
       "      <td>0.0</td>\n",
       "      <td>0.0</td>\n",
       "      <td>...</td>\n",
       "      <td>0.0</td>\n",
       "      <td>0.0</td>\n",
       "      <td>0.0</td>\n",
       "      <td>0.0</td>\n",
       "      <td>0.0</td>\n",
       "      <td>0.0</td>\n",
       "      <td>0.0</td>\n",
       "      <td>0.0</td>\n",
       "      <td>0.0</td>\n",
       "      <td>0.0</td>\n",
       "    </tr>\n",
       "    <tr>\n",
       "      <th>4</th>\n",
       "      <td>2019-10-01 04:00:00</td>\n",
       "      <td>1.0</td>\n",
       "      <td>1.0</td>\n",
       "      <td>13.0</td>\n",
       "      <td>1026.0</td>\n",
       "      <td>88.0</td>\n",
       "      <td>0.0</td>\n",
       "      <td>0.0</td>\n",
       "      <td>0.0</td>\n",
       "      <td>0.0</td>\n",
       "      <td>...</td>\n",
       "      <td>0.0</td>\n",
       "      <td>0.0</td>\n",
       "      <td>0.0</td>\n",
       "      <td>0.0</td>\n",
       "      <td>0.0</td>\n",
       "      <td>0.0</td>\n",
       "      <td>0.0</td>\n",
       "      <td>0.0</td>\n",
       "      <td>0.0</td>\n",
       "      <td>0.0</td>\n",
       "    </tr>\n",
       "  </tbody>\n",
       "</table>\n",
       "<p>5 rows × 117 columns</p>\n",
       "</div>"
      ],
      "text/plain": [
       "              Datetime  temp  templow  icon    baro   hum  rain  fog  thunder  \\\n",
       "0  2019-10-01 00:00:00   2.0      1.0  13.0  1026.0  88.0   0.0  0.0      0.0   \n",
       "1  2019-10-01 01:00:00   1.0      1.0  13.0  1026.0  88.0   0.0  0.0      0.0   \n",
       "2  2019-10-01 02:00:00   1.0      1.0  13.0  1026.0  88.0   0.0  0.0      0.0   \n",
       "3  2019-10-01 03:00:00   1.0      1.0  13.0  1026.0  88.0   0.0  0.0      0.0   \n",
       "4  2019-10-01 04:00:00   1.0      1.0  13.0  1026.0  88.0   0.0  0.0      0.0   \n",
       "\n",
       "   snow  ...  desc_Light rain. Passing clouds.  desc_Low clouds.  \\\n",
       "0   0.0  ...                               0.0               0.0   \n",
       "1   0.0  ...                               0.0               0.0   \n",
       "2   0.0  ...                               0.0               0.0   \n",
       "3   0.0  ...                               0.0               0.0   \n",
       "4   0.0  ...                               0.0               0.0   \n",
       "\n",
       "   desc_More clouds than sun.  desc_Mostly cloudy.  desc_Overcast.  \\\n",
       "0                         0.0                  0.0             0.0   \n",
       "1                         0.0                  0.0             0.0   \n",
       "2                         0.0                  0.0             0.0   \n",
       "3                         0.0                  0.0             0.0   \n",
       "4                         0.0                  0.0             0.0   \n",
       "\n",
       "   desc_Partly cloudy.  desc_Partly sunny.  desc_Passing clouds.  \\\n",
       "0                  0.0                 0.0                   0.0   \n",
       "1                  0.0                 0.0                   0.0   \n",
       "2                  0.0                 0.0                   0.0   \n",
       "3                  0.0                 0.0                   0.0   \n",
       "4                  0.0                 0.0                   0.0   \n",
       "\n",
       "   desc_Scattered clouds.  desc_Sunny.  \n",
       "0                     0.0          0.0  \n",
       "1                     0.0          0.0  \n",
       "2                     0.0          0.0  \n",
       "3                     0.0          0.0  \n",
       "4                     0.0          0.0  \n",
       "\n",
       "[5 rows x 117 columns]"
      ]
     },
     "execution_count": 2,
     "metadata": {},
     "output_type": "execute_result"
    }
   ],
   "source": [
    "data = pd.read_csv('data.csv')\n",
    "data.head()"
   ]
  },
  {
   "cell_type": "code",
   "execution_count": 5,
   "metadata": {},
   "outputs": [],
   "source": [
    "drop = ['etat_barre_ce', 'etat_barre_lc', 'etat_barre_pv', 'Année', 'Mois', 'Jour', 'Heure', 'Jour semaine']\n",
    "target_ce = ['q_ce', 'k_ce']\n",
    "target_lc = ['q_lc', 'k_lc']\n",
    "target_pv = ['q_pv', 'k_pv']\n",
    "all_ = drop + target_ce + target_lc + target_pv\n",
    "features = [x for x in data.columns.tolist() if x not in all_]\n",
    "df = copy.deepcopy(data)\n",
    "df = df.drop(drop, axis=1)\n",
    "df_ce = copy.deepcopy(df[features + target_ce])\n",
    "df_lc = copy.deepcopy(df[features + target_lc])\n",
    "df_pv = copy.deepcopy(df[features + target_pv])"
   ]
  },
  {
   "cell_type": "code",
   "execution_count": 9,
   "metadata": {},
   "outputs": [
    {
     "data": {
      "text/html": [
       "<div>\n",
       "<style scoped>\n",
       "    .dataframe tbody tr th:only-of-type {\n",
       "        vertical-align: middle;\n",
       "    }\n",
       "\n",
       "    .dataframe tbody tr th {\n",
       "        vertical-align: top;\n",
       "    }\n",
       "\n",
       "    .dataframe thead th {\n",
       "        text-align: right;\n",
       "    }\n",
       "</style>\n",
       "<table border=\"1\" class=\"dataframe\">\n",
       "  <thead>\n",
       "    <tr style=\"text-align: right;\">\n",
       "      <th></th>\n",
       "      <th>Datetime</th>\n",
       "      <th>temp</th>\n",
       "      <th>templow</th>\n",
       "      <th>icon</th>\n",
       "      <th>baro</th>\n",
       "      <th>hum</th>\n",
       "      <th>rain</th>\n",
       "      <th>fog</th>\n",
       "      <th>thunder</th>\n",
       "      <th>snow</th>\n",
       "      <th>...</th>\n",
       "      <th>desc_More clouds than sun.</th>\n",
       "      <th>desc_Mostly cloudy.</th>\n",
       "      <th>desc_Overcast.</th>\n",
       "      <th>desc_Partly cloudy.</th>\n",
       "      <th>desc_Partly sunny.</th>\n",
       "      <th>desc_Passing clouds.</th>\n",
       "      <th>desc_Scattered clouds.</th>\n",
       "      <th>desc_Sunny.</th>\n",
       "      <th>q_ce</th>\n",
       "      <th>k_ce</th>\n",
       "    </tr>\n",
       "  </thead>\n",
       "  <tbody>\n",
       "    <tr>\n",
       "      <th>0</th>\n",
       "      <td>2019-10-01 00:00:00</td>\n",
       "      <td>2.0</td>\n",
       "      <td>1.0</td>\n",
       "      <td>13.0</td>\n",
       "      <td>1026.0</td>\n",
       "      <td>88.0</td>\n",
       "      <td>0.0</td>\n",
       "      <td>0.0</td>\n",
       "      <td>0.0</td>\n",
       "      <td>0.0</td>\n",
       "      <td>...</td>\n",
       "      <td>0.0</td>\n",
       "      <td>0.0</td>\n",
       "      <td>0.0</td>\n",
       "      <td>0.0</td>\n",
       "      <td>0.0</td>\n",
       "      <td>0.0</td>\n",
       "      <td>0.0</td>\n",
       "      <td>0.0</td>\n",
       "      <td>767.0</td>\n",
       "      <td>10.40890</td>\n",
       "    </tr>\n",
       "    <tr>\n",
       "      <th>1</th>\n",
       "      <td>2019-10-01 01:00:00</td>\n",
       "      <td>1.0</td>\n",
       "      <td>1.0</td>\n",
       "      <td>13.0</td>\n",
       "      <td>1026.0</td>\n",
       "      <td>88.0</td>\n",
       "      <td>0.0</td>\n",
       "      <td>0.0</td>\n",
       "      <td>0.0</td>\n",
       "      <td>0.0</td>\n",
       "      <td>...</td>\n",
       "      <td>0.0</td>\n",
       "      <td>0.0</td>\n",
       "      <td>0.0</td>\n",
       "      <td>0.0</td>\n",
       "      <td>0.0</td>\n",
       "      <td>0.0</td>\n",
       "      <td>0.0</td>\n",
       "      <td>0.0</td>\n",
       "      <td>695.0</td>\n",
       "      <td>8.73556</td>\n",
       "    </tr>\n",
       "    <tr>\n",
       "      <th>2</th>\n",
       "      <td>2019-10-01 02:00:00</td>\n",
       "      <td>1.0</td>\n",
       "      <td>1.0</td>\n",
       "      <td>13.0</td>\n",
       "      <td>1026.0</td>\n",
       "      <td>88.0</td>\n",
       "      <td>0.0</td>\n",
       "      <td>0.0</td>\n",
       "      <td>0.0</td>\n",
       "      <td>0.0</td>\n",
       "      <td>...</td>\n",
       "      <td>0.0</td>\n",
       "      <td>0.0</td>\n",
       "      <td>0.0</td>\n",
       "      <td>0.0</td>\n",
       "      <td>0.0</td>\n",
       "      <td>0.0</td>\n",
       "      <td>0.0</td>\n",
       "      <td>0.0</td>\n",
       "      <td>423.0</td>\n",
       "      <td>5.25167</td>\n",
       "    </tr>\n",
       "    <tr>\n",
       "      <th>3</th>\n",
       "      <td>2019-10-01 03:00:00</td>\n",
       "      <td>1.0</td>\n",
       "      <td>1.0</td>\n",
       "      <td>13.0</td>\n",
       "      <td>1026.0</td>\n",
       "      <td>88.0</td>\n",
       "      <td>0.0</td>\n",
       "      <td>0.0</td>\n",
       "      <td>0.0</td>\n",
       "      <td>0.0</td>\n",
       "      <td>...</td>\n",
       "      <td>0.0</td>\n",
       "      <td>0.0</td>\n",
       "      <td>0.0</td>\n",
       "      <td>0.0</td>\n",
       "      <td>0.0</td>\n",
       "      <td>0.0</td>\n",
       "      <td>0.0</td>\n",
       "      <td>0.0</td>\n",
       "      <td>370.0</td>\n",
       "      <td>3.79667</td>\n",
       "    </tr>\n",
       "    <tr>\n",
       "      <th>4</th>\n",
       "      <td>2019-10-01 04:00:00</td>\n",
       "      <td>1.0</td>\n",
       "      <td>1.0</td>\n",
       "      <td>13.0</td>\n",
       "      <td>1026.0</td>\n",
       "      <td>88.0</td>\n",
       "      <td>0.0</td>\n",
       "      <td>0.0</td>\n",
       "      <td>0.0</td>\n",
       "      <td>0.0</td>\n",
       "      <td>...</td>\n",
       "      <td>0.0</td>\n",
       "      <td>0.0</td>\n",
       "      <td>0.0</td>\n",
       "      <td>0.0</td>\n",
       "      <td>0.0</td>\n",
       "      <td>0.0</td>\n",
       "      <td>0.0</td>\n",
       "      <td>0.0</td>\n",
       "      <td>331.0</td>\n",
       "      <td>3.73000</td>\n",
       "    </tr>\n",
       "  </tbody>\n",
       "</table>\n",
       "<p>5 rows × 105 columns</p>\n",
       "</div>"
      ],
      "text/plain": [
       "              Datetime  temp  templow  icon    baro   hum  rain  fog  thunder  \\\n",
       "0  2019-10-01 00:00:00   2.0      1.0  13.0  1026.0  88.0   0.0  0.0      0.0   \n",
       "1  2019-10-01 01:00:00   1.0      1.0  13.0  1026.0  88.0   0.0  0.0      0.0   \n",
       "2  2019-10-01 02:00:00   1.0      1.0  13.0  1026.0  88.0   0.0  0.0      0.0   \n",
       "3  2019-10-01 03:00:00   1.0      1.0  13.0  1026.0  88.0   0.0  0.0      0.0   \n",
       "4  2019-10-01 04:00:00   1.0      1.0  13.0  1026.0  88.0   0.0  0.0      0.0   \n",
       "\n",
       "   snow  ...  desc_More clouds than sun.  desc_Mostly cloudy.  desc_Overcast.  \\\n",
       "0   0.0  ...                         0.0                  0.0             0.0   \n",
       "1   0.0  ...                         0.0                  0.0             0.0   \n",
       "2   0.0  ...                         0.0                  0.0             0.0   \n",
       "3   0.0  ...                         0.0                  0.0             0.0   \n",
       "4   0.0  ...                         0.0                  0.0             0.0   \n",
       "\n",
       "   desc_Partly cloudy.  desc_Partly sunny.  desc_Passing clouds.  \\\n",
       "0                  0.0                 0.0                   0.0   \n",
       "1                  0.0                 0.0                   0.0   \n",
       "2                  0.0                 0.0                   0.0   \n",
       "3                  0.0                 0.0                   0.0   \n",
       "4                  0.0                 0.0                   0.0   \n",
       "\n",
       "   desc_Scattered clouds.  desc_Sunny.   q_ce      k_ce  \n",
       "0                     0.0          0.0  767.0  10.40890  \n",
       "1                     0.0          0.0  695.0   8.73556  \n",
       "2                     0.0          0.0  423.0   5.25167  \n",
       "3                     0.0          0.0  370.0   3.79667  \n",
       "4                     0.0          0.0  331.0   3.73000  \n",
       "\n",
       "[5 rows x 105 columns]"
      ]
     },
     "execution_count": 9,
     "metadata": {},
     "output_type": "execute_result"
    }
   ],
   "source": [
    "df_ce.head()"
   ]
  },
  {
   "cell_type": "code",
   "execution_count": 43,
   "metadata": {},
   "outputs": [
    {
     "data": {
      "text/plain": [
       "(120, 102)"
      ]
     },
     "execution_count": 43,
     "metadata": {},
     "output_type": "execute_result"
    }
   ],
   "source": [
    "x_.shape"
   ]
  },
  {
   "cell_type": "markdown",
   "metadata": {},
   "source": [
    "# Bazooka 1 : Stacking models"
   ]
  },
  {
   "cell_type": "markdown",
   "metadata": {},
   "source": [
    "## Champs Elysées"
   ]
  },
  {
   "cell_type": "markdown",
   "metadata": {},
   "source": [
    "### Q"
   ]
  },
  {
   "cell_type": "code",
   "execution_count": 34,
   "metadata": {},
   "outputs": [],
   "source": [
    "train = df_ce[(df_ce.Datetime < '2020-11-25') & (df_ce.q_ce.notnull())]\n",
    "test = df_ce[(df_ce.Datetime >= '2020-11-25') & (df_ce.Datetime < '2020-11-30') & (df_ce.q_ce.notnull())]\n",
    "X_train = train.drop(['Datetime', 'q_ce', 'k_ce'], axis=1)\n",
    "y_train = train['q_ce']\n",
    "x_test = test.drop(['Datetime', 'q_ce', 'k_ce'], axis=1)\n",
    "y_test = test['q_ce']"
   ]
  },
  {
   "cell_type": "code",
   "execution_count": 25,
   "metadata": {},
   "outputs": [
    {
     "data": {
      "text/plain": [
       "Pipeline(steps=[('stackingestimator',\n",
       "                 StackingEstimator(estimator=GradientBoostingRegressor(alpha=0.75,\n",
       "                                                                       learning_rate=0.01,\n",
       "                                                                       max_depth=6,\n",
       "                                                                       max_features=0.9500000000000001,\n",
       "                                                                       min_samples_leaf=4,\n",
       "                                                                       min_samples_split=20,\n",
       "                                                                       n_estimators=1000,\n",
       "                                                                       random_state=27,\n",
       "                                                                       subsample=0.35000000000000003))),\n",
       "                ('xgbregressor',\n",
       "                 XGBRegressor(base_score=0.5, booster='gbtree',\n",
       "                              colsample_bylevel...\n",
       "                              colsample_bytree=1, gamma=0, gpu_id=-1,\n",
       "                              importance_type='gain',\n",
       "                              interaction_constraints='', learning_rate=0.1,\n",
       "                              max_delta_step=0, max_depth=10,\n",
       "                              min_child_weight=6, missing=nan,\n",
       "                              monotone_constraints='()', n_estimators=1000,\n",
       "                              n_jobs=1, nthread=1, num_parallel_tree=1,\n",
       "                              random_state=27, reg_alpha=0, reg_lambda=1,\n",
       "                              scale_pos_weight=1, subsample=1.0,\n",
       "                              tree_method='exact', validate_parameters=1,\n",
       "                              verbosity=None))])"
      ]
     },
     "execution_count": 25,
     "metadata": {},
     "output_type": "execute_result"
    }
   ],
   "source": [
    "exported_pipeline = make_pipeline(\n",
    "    StackingEstimator(estimator=GradientBoostingRegressor(alpha=0.75, learning_rate=0.01, loss=\"ls\", max_depth=6, max_features=0.9500000000000001, min_samples_leaf=4, min_samples_split=20, n_estimators=1000, subsample=0.35000000000000003,random_state=27)),\n",
    "    XGBRegressor(learning_rate=0.1, max_depth=10, min_child_weight=6, n_estimators=1000, nthread=1, objective=\"reg:squarederror\", subsample=1.0, random_state=27)\n",
    "    #LGBMRegressor(learning_rate=0.1, max_depth=15, min_child_weight=6, n_estimators=500, nthread=1, objective=\"reg:squarederror\", subsample=1.0, random_state=27)\n",
    ")\n",
    "exported_pipeline.fit(X_train, y_train)"
   ]
  },
  {
   "cell_type": "code",
   "execution_count": 17,
   "metadata": {},
   "outputs": [],
   "source": [
    "from sklearn.metrics import mean_squared_error"
   ]
  },
  {
   "cell_type": "code",
   "execution_count": 26,
   "metadata": {},
   "outputs": [
    {
     "data": {
      "text/plain": [
       "182.59672579824058"
      ]
     },
     "execution_count": 26,
     "metadata": {},
     "output_type": "execute_result"
    }
   ],
   "source": [
    "np.sqrt(mean_squared_error(exported_pipeline.predict(x_test), y_test.values))"
   ]
  },
  {
   "cell_type": "code",
   "execution_count": 39,
   "metadata": {},
   "outputs": [
    {
     "name": "stdout",
     "output_type": "stream",
     "text": [
      "[LightGBM] [Warning] num_threads is set with nthread=1, will be overridden by n_jobs=-1. Current value: num_threads=-1\n"
     ]
    },
    {
     "data": {
      "text/plain": [
       "Pipeline(steps=[('stackingestimator',\n",
       "                 StackingEstimator(estimator=LGBMRegressor(min_child_weight=6,\n",
       "                                                           n_estimators=1000,\n",
       "                                                           nthread=1,\n",
       "                                                           random_state=27))),\n",
       "                ('xgbregressor',\n",
       "                 XGBRegressor(base_score=0.5, booster='gbtree',\n",
       "                              colsample_bylevel=1, colsample_bynode=1,\n",
       "                              colsample_bytree=1, gamma=0, gpu_id=-1,\n",
       "                              importance_type='gain',\n",
       "                              interaction_constraints='', learning_rate=0.1,\n",
       "                              max_delta_step=0, max_depth=10,\n",
       "                              min_child_weight=6, missing=nan,\n",
       "                              monotone_constraints='()', n_estimators=1000,\n",
       "                              n_jobs=1, nthread=1, num_parallel_tree=1,\n",
       "                              random_state=27, reg_alpha=0, reg_lambda=1,\n",
       "                              scale_pos_weight=1, subsample=1.0,\n",
       "                              tree_method='exact', validate_parameters=1,\n",
       "                              verbosity=None))])"
      ]
     },
     "execution_count": 39,
     "metadata": {},
     "output_type": "execute_result"
    }
   ],
   "source": [
    "exported_pipeline = make_pipeline(\n",
    "    StackingEstimator(estimator=LGBMRegressor(learning_rate=0.1, min_child_weight=6, n_estimators=1000, nthread=1, subsample=1.0, random_state=27)),\n",
    "    XGBRegressor(learning_rate=0.1, max_depth=10, min_child_weight=6, n_estimators=1000, nthread=1, objective=\"reg:squarederror\", subsample=1.0, random_state=27)\n",
    ")\n",
    "exported_pipeline.fit(X_train, y_train)"
   ]
  },
  {
   "cell_type": "code",
   "execution_count": 42,
   "metadata": {},
   "outputs": [
    {
     "data": {
      "text/plain": [
       "3.3451036454729075"
      ]
     },
     "execution_count": 42,
     "metadata": {},
     "output_type": "execute_result"
    }
   ],
   "source": [
    "np.sqrt(mean_squared_error(exported_pipeline.predict(X_train), y_train.values))"
   ]
  },
  {
   "cell_type": "markdown",
   "metadata": {},
   "source": [
    "### K"
   ]
  },
  {
   "cell_type": "code",
   "execution_count": 27,
   "metadata": {},
   "outputs": [],
   "source": [
    "train = df_ce[(df_ce.Datetime < '2020-11-25') & (df_ce.k_ce.notnull())]\n",
    "test = df_ce[(df_ce.Datetime >= '2020-11-25') & (df_ce.Datetime < '2020-11-30') & (df_ce.k_ce.notnull())]\n",
    "X_train = train.drop(['Datetime', 'q_ce', 'k_ce'], axis=1)\n",
    "y_train = train['k_ce']\n",
    "x_test = test.drop(['Datetime', 'q_ce', 'k_ce'], axis=1)\n",
    "y_test = test['k_ce']"
   ]
  },
  {
   "cell_type": "code",
   "execution_count": 28,
   "metadata": {},
   "outputs": [
    {
     "data": {
      "text/plain": [
       "Pipeline(steps=[('stackingestimator',\n",
       "                 StackingEstimator(estimator=GradientBoostingRegressor(alpha=0.75,\n",
       "                                                                       learning_rate=0.01,\n",
       "                                                                       max_depth=6,\n",
       "                                                                       max_features=0.9500000000000001,\n",
       "                                                                       min_samples_leaf=4,\n",
       "                                                                       min_samples_split=20,\n",
       "                                                                       n_estimators=1000,\n",
       "                                                                       random_state=27,\n",
       "                                                                       subsample=0.35000000000000003))),\n",
       "                ('xgbregressor',\n",
       "                 XGBRegressor(base_score=0.5, booster='gbtree',\n",
       "                              colsample_bylevel...\n",
       "                              colsample_bytree=1, gamma=0, gpu_id=-1,\n",
       "                              importance_type='gain',\n",
       "                              interaction_constraints='', learning_rate=0.1,\n",
       "                              max_delta_step=0, max_depth=10,\n",
       "                              min_child_weight=6, missing=nan,\n",
       "                              monotone_constraints='()', n_estimators=1000,\n",
       "                              n_jobs=1, nthread=1, num_parallel_tree=1,\n",
       "                              random_state=27, reg_alpha=0, reg_lambda=1,\n",
       "                              scale_pos_weight=1, subsample=1.0,\n",
       "                              tree_method='exact', validate_parameters=1,\n",
       "                              verbosity=None))])"
      ]
     },
     "execution_count": 28,
     "metadata": {},
     "output_type": "execute_result"
    }
   ],
   "source": [
    "exported_pipeline = make_pipeline(\n",
    "    StackingEstimator(estimator=GradientBoostingRegressor(alpha=0.75, learning_rate=0.01, loss=\"ls\", max_depth=6, max_features=0.9500000000000001, min_samples_leaf=4, min_samples_split=20, n_estimators=1000, subsample=0.35000000000000003,random_state=27)),\n",
    "    XGBRegressor(learning_rate=0.1, max_depth=10, min_child_weight=6, n_estimators=1000, nthread=1, objective=\"reg:squarederror\", subsample=1.0, random_state=27)\n",
    "    #LGBMRegressor(learning_rate=0.1, max_depth=15, min_child_weight=6, n_estimators=500, nthread=1, objective=\"reg:squarederror\", subsample=1.0, random_state=27)\n",
    ")\n",
    "exported_pipeline.fit(X_train, y_train)"
   ]
  },
  {
   "cell_type": "code",
   "execution_count": 29,
   "metadata": {},
   "outputs": [
    {
     "data": {
      "text/plain": [
       "5.731906332357755"
      ]
     },
     "execution_count": 29,
     "metadata": {},
     "output_type": "execute_result"
    }
   ],
   "source": [
    "np.sqrt(mean_squared_error(exported_pipeline.predict(x_test), y_test.values))"
   ]
  },
  {
   "cell_type": "code",
   "execution_count": 32,
   "metadata": {},
   "outputs": [
    {
     "data": {
      "text/plain": [
       "array([ 2.9802382,  2.8815336,  1.5518559,  2.0161645,  1.585243 ,\n",
       "        1.0443733,  1.5952708,  3.5895648,  8.923735 , 15.711721 ,\n",
       "       14.5383835, 16.632332 , 16.208008 , 16.273758 , 15.680016 ,\n",
       "       17.081106 , 16.250599 , 15.712782 ,  9.820754 ,  9.323345 ,\n",
       "       12.429255 , 10.476629 ,  9.134832 ,  4.6016116,  5.5057244,\n",
       "        3.477779 ,  2.7201803,  1.7320745,  1.2067641,  0.9482653,\n",
       "        1.9738827,  4.2479086,  8.049665 , 14.87104  , 18.196215 ,\n",
       "       17.489155 , 16.33226  , 16.010637 , 17.247385 , 17.543629 ,\n",
       "       16.000517 , 16.740118 , 15.820739 , 15.974157 , 12.9145775,\n",
       "       12.057243 , 10.329183 ,  6.0079823,  5.4684486,  4.473836 ,\n",
       "        3.714355 ,  2.7846088,  2.1554704,  1.2896713,  1.2986009,\n",
       "        3.2124333,  6.842898 , 11.151227 , 17.076004 , 15.436073 ,\n",
       "       15.703313 , 16.700127 , 18.022966 , 16.559444 , 15.770129 ,\n",
       "       15.422131 , 16.097622 , 11.338148 , 12.401517 , 11.125065 ,\n",
       "       10.342988 ,  6.6655755, 10.428204 , 10.012559 ,  8.1068   ,\n",
       "        6.7368007,  5.251775 ,  3.3316705,  2.1161504,  5.2842817,\n",
       "        4.739925 ,  6.03925  ,  8.410038 ,  9.996788 , 12.531125 ,\n",
       "       16.102875 , 18.824202 , 18.477001 , 18.728983 , 16.554358 ,\n",
       "       15.835082 , 16.994253 , 18.31522  , 17.19748  , 16.083214 ,\n",
       "       11.4001255, 11.310792 ,  9.57162  ,  8.056444 ,  8.048733 ,\n",
       "        5.7062817,  3.1041417,  1.6825243,  4.1314373,  4.7548337,\n",
       "        4.1784997,  4.9417496,  7.455426 ,  8.793027 ,  9.156054 ,\n",
       "       12.6407385, 14.0218525, 14.905292 , 17.988445 , 17.578909 ,\n",
       "       16.60028  , 16.528114 , 14.885932 ,  9.854544 ,  9.419511 ],\n",
       "      dtype=float32)"
      ]
     },
     "execution_count": 32,
     "metadata": {},
     "output_type": "execute_result"
    }
   ],
   "source": [
    "exported_pipeline.predict(x_test)"
   ]
  },
  {
   "cell_type": "code",
   "execution_count": 33,
   "metadata": {},
   "outputs": [
    {
     "data": {
      "text/plain": [
       "array([ 2.74167,  1.57833,  1.60723,  1.29389,  0.755  ,  0.75722,\n",
       "        0.95667,  1.79778,  5.44834, 10.79389, 16.31667, 20.77056,\n",
       "       13.50611, 10.01389,  9.85278, 10.10445,  9.94778,  9.83778,\n",
       "       10.34556,  9.63278, 10.56278,  6.75833,  4.775  ,  3.25334,\n",
       "        2.17667,  1.71334,  1.26445,  0.91556,  0.66278,  0.62667,\n",
       "        0.77444,  1.875  ,  5.63778, 10.60389, 12.93445, 14.08834,\n",
       "       12.00945, 11.29945, 10.00167,  9.24667, 11.71389, 10.57167,\n",
       "       11.31278, 10.07889, 10.18667,  8.23167,  4.94944,  3.53889,\n",
       "        2.19445,  1.73722,  1.545  ,  1.43556,  0.87667,  0.71944,\n",
       "        1.16611,  1.59556,  6.34611, 12.42778, 13.39778, 13.88222,\n",
       "       13.10667, 10.30167, 10.85389, 12.72111, 10.35833, 12.31056,\n",
       "       11.765  , 10.49833,  9.85556,  8.21889,  5.46834,  5.67   ,\n",
       "        2.46667,  1.93055,  1.99667,  1.42334,  0.99278,  0.51833,\n",
       "        0.61056,  1.26222,  2.71167,  3.25889,  4.39222,  7.34556,\n",
       "        9.42278, 11.37111, 12.14667, 11.07167, 14.03389, 24.91889,\n",
       "       34.23111, 34.19833, 32.21889, 18.97833, 11.29111,  8.70389,\n",
       "        4.49167,  2.89389,  2.21389,  1.45389,  1.02667,  0.82334,\n",
       "        0.58056,  1.00111,  0.98667,  3.25889,  2.59222,  3.49556,\n",
       "        5.93   , 10.09056,  8.61055, 18.98889, 39.685  , 18.54944,\n",
       "       21.51722, 36.99556, 31.64278, 13.09667,  7.50778,  4.38   ])"
      ]
     },
     "execution_count": 33,
     "metadata": {},
     "output_type": "execute_result"
    }
   ],
   "source": [
    "y_test.values"
   ]
  },
  {
   "cell_type": "markdown",
   "metadata": {},
   "source": [
    "https://github.com/xiaochus/TrafficFlowPrediction"
   ]
  }
 ],
 "metadata": {
  "kernelspec": {
   "display_name": "Python 3",
   "language": "python",
   "name": "python3"
  },
  "language_info": {
   "codemirror_mode": {
    "name": "ipython",
    "version": 3
   },
   "file_extension": ".py",
   "mimetype": "text/x-python",
   "name": "python",
   "nbconvert_exporter": "python",
   "pygments_lexer": "ipython3",
   "version": "3.8.3"
  }
 },
 "nbformat": 4,
 "nbformat_minor": 4
}
