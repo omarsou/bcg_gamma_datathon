{
 "cells": [
  {
   "cell_type": "code",
   "execution_count": 1,
   "metadata": {},
   "outputs": [],
   "source": [
    "import numpy as np # linear algebra\n",
    "import pandas as pd # data processing, CSV file I/O (e.g. pd.read_csv)\n",
    "import seaborn as sns\n",
    "import matplotlib.pyplot as plt\n",
    "import xgboost as xgb\n",
    "from xgboost import plot_importance, plot_tree\n",
    "from sklearn.metrics import mean_squared_error, mean_absolute_error\n",
    "import random\n",
    "np.random.seed(42)\n",
    "random.seed(42)\n",
    "RANDOM_SEED = 42\n",
    "plt.style.use('fivethirtyeight')"
   ]
  },
  {
   "cell_type": "code",
   "execution_count": 2,
   "metadata": {},
   "outputs": [
    {
     "data": {
      "text/html": [
       "<div>\n",
       "<style scoped>\n",
       "    .dataframe tbody tr th:only-of-type {\n",
       "        vertical-align: middle;\n",
       "    }\n",
       "\n",
       "    .dataframe tbody tr th {\n",
       "        vertical-align: top;\n",
       "    }\n",
       "\n",
       "    .dataframe thead th {\n",
       "        text-align: right;\n",
       "    }\n",
       "</style>\n",
       "<table border=\"1\" class=\"dataframe\">\n",
       "  <thead>\n",
       "    <tr style=\"text-align: right;\">\n",
       "      <th></th>\n",
       "      <th>Datetime</th>\n",
       "      <th>temp</th>\n",
       "      <th>desc</th>\n",
       "      <th>icon</th>\n",
       "      <th>baro</th>\n",
       "      <th>wind</th>\n",
       "      <th>wd</th>\n",
       "      <th>hum</th>\n",
       "      <th>rain</th>\n",
       "      <th>fog</th>\n",
       "      <th>...</th>\n",
       "      <th>curfew</th>\n",
       "      <th>etat_barre_ce</th>\n",
       "      <th>q_ce</th>\n",
       "      <th>k_ce</th>\n",
       "      <th>etat_barre_lc</th>\n",
       "      <th>q_lc</th>\n",
       "      <th>k_lc</th>\n",
       "      <th>etat_barre_pv</th>\n",
       "      <th>q_pv</th>\n",
       "      <th>k_pv</th>\n",
       "    </tr>\n",
       "  </thead>\n",
       "  <tbody>\n",
       "    <tr>\n",
       "      <th>0</th>\n",
       "      <td>2014-01-01 00:00:00</td>\n",
       "      <td>7.0</td>\n",
       "      <td>Low clouds.</td>\n",
       "      <td>17.0</td>\n",
       "      <td>1011.0</td>\n",
       "      <td>15.0</td>\n",
       "      <td>220.0</td>\n",
       "      <td>92.0</td>\n",
       "      <td>0.0</td>\n",
       "      <td>0.0</td>\n",
       "      <td>...</td>\n",
       "      <td>0.0</td>\n",
       "      <td>NaN</td>\n",
       "      <td>NaN</td>\n",
       "      <td>NaN</td>\n",
       "      <td>NaN</td>\n",
       "      <td>NaN</td>\n",
       "      <td>NaN</td>\n",
       "      <td>NaN</td>\n",
       "      <td>NaN</td>\n",
       "      <td>NaN</td>\n",
       "    </tr>\n",
       "    <tr>\n",
       "      <th>1</th>\n",
       "      <td>2014-01-01 01:00:00</td>\n",
       "      <td>6.0</td>\n",
       "      <td>Low clouds.</td>\n",
       "      <td>17.0</td>\n",
       "      <td>1011.0</td>\n",
       "      <td>15.0</td>\n",
       "      <td>220.0</td>\n",
       "      <td>92.0</td>\n",
       "      <td>0.0</td>\n",
       "      <td>0.0</td>\n",
       "      <td>...</td>\n",
       "      <td>0.0</td>\n",
       "      <td>3.0</td>\n",
       "      <td>4.0</td>\n",
       "      <td>0.00000</td>\n",
       "      <td>3.0</td>\n",
       "      <td>205.0</td>\n",
       "      <td>2.25945</td>\n",
       "      <td>3.0</td>\n",
       "      <td>486.0</td>\n",
       "      <td>6.17889</td>\n",
       "    </tr>\n",
       "    <tr>\n",
       "      <th>2</th>\n",
       "      <td>2014-01-01 02:00:00</td>\n",
       "      <td>6.0</td>\n",
       "      <td>Low clouds.</td>\n",
       "      <td>17.0</td>\n",
       "      <td>1011.0</td>\n",
       "      <td>15.0</td>\n",
       "      <td>220.0</td>\n",
       "      <td>92.0</td>\n",
       "      <td>0.0</td>\n",
       "      <td>0.0</td>\n",
       "      <td>...</td>\n",
       "      <td>0.0</td>\n",
       "      <td>3.0</td>\n",
       "      <td>21.0</td>\n",
       "      <td>0.10445</td>\n",
       "      <td>3.0</td>\n",
       "      <td>283.0</td>\n",
       "      <td>3.25111</td>\n",
       "      <td>3.0</td>\n",
       "      <td>571.0</td>\n",
       "      <td>6.66222</td>\n",
       "    </tr>\n",
       "    <tr>\n",
       "      <th>3</th>\n",
       "      <td>2014-01-01 03:00:00</td>\n",
       "      <td>6.0</td>\n",
       "      <td>Low clouds.</td>\n",
       "      <td>17.0</td>\n",
       "      <td>1011.0</td>\n",
       "      <td>15.0</td>\n",
       "      <td>220.0</td>\n",
       "      <td>92.0</td>\n",
       "      <td>0.0</td>\n",
       "      <td>0.0</td>\n",
       "      <td>...</td>\n",
       "      <td>0.0</td>\n",
       "      <td>3.0</td>\n",
       "      <td>417.0</td>\n",
       "      <td>6.12667</td>\n",
       "      <td>3.0</td>\n",
       "      <td>309.0</td>\n",
       "      <td>3.36000</td>\n",
       "      <td>3.0</td>\n",
       "      <td>532.0</td>\n",
       "      <td>5.56611</td>\n",
       "    </tr>\n",
       "    <tr>\n",
       "      <th>4</th>\n",
       "      <td>2014-01-01 04:00:00</td>\n",
       "      <td>6.0</td>\n",
       "      <td>Low clouds.</td>\n",
       "      <td>17.0</td>\n",
       "      <td>1011.0</td>\n",
       "      <td>15.0</td>\n",
       "      <td>220.0</td>\n",
       "      <td>92.0</td>\n",
       "      <td>0.0</td>\n",
       "      <td>0.0</td>\n",
       "      <td>...</td>\n",
       "      <td>0.0</td>\n",
       "      <td>3.0</td>\n",
       "      <td>1089.0</td>\n",
       "      <td>14.39890</td>\n",
       "      <td>3.0</td>\n",
       "      <td>277.0</td>\n",
       "      <td>3.01445</td>\n",
       "      <td>3.0</td>\n",
       "      <td>458.0</td>\n",
       "      <td>4.63444</td>\n",
       "    </tr>\n",
       "  </tbody>\n",
       "</table>\n",
       "<p>5 rows × 32 columns</p>\n",
       "</div>"
      ],
      "text/plain": [
       "             Datetime  temp         desc  icon    baro  wind     wd   hum  \\\n",
       "0 2014-01-01 00:00:00   7.0  Low clouds.  17.0  1011.0  15.0  220.0  92.0   \n",
       "1 2014-01-01 01:00:00   6.0  Low clouds.  17.0  1011.0  15.0  220.0  92.0   \n",
       "2 2014-01-01 02:00:00   6.0  Low clouds.  17.0  1011.0  15.0  220.0  92.0   \n",
       "3 2014-01-01 03:00:00   6.0  Low clouds.  17.0  1011.0  15.0  220.0  92.0   \n",
       "4 2014-01-01 04:00:00   6.0  Low clouds.  17.0  1011.0  15.0  220.0  92.0   \n",
       "\n",
       "   rain  fog  ...  curfew  etat_barre_ce    q_ce      k_ce  etat_barre_lc  \\\n",
       "0   0.0  0.0  ...     0.0            NaN     NaN       NaN            NaN   \n",
       "1   0.0  0.0  ...     0.0            3.0     4.0   0.00000            3.0   \n",
       "2   0.0  0.0  ...     0.0            3.0    21.0   0.10445            3.0   \n",
       "3   0.0  0.0  ...     0.0            3.0   417.0   6.12667            3.0   \n",
       "4   0.0  0.0  ...     0.0            3.0  1089.0  14.39890            3.0   \n",
       "\n",
       "    q_lc     k_lc  etat_barre_pv   q_pv     k_pv  \n",
       "0    NaN      NaN            NaN    NaN      NaN  \n",
       "1  205.0  2.25945            3.0  486.0  6.17889  \n",
       "2  283.0  3.25111            3.0  571.0  6.66222  \n",
       "3  309.0  3.36000            3.0  532.0  5.56611  \n",
       "4  277.0  3.01445            3.0  458.0  4.63444  \n",
       "\n",
       "[5 rows x 32 columns]"
      ]
     },
     "execution_count": 2,
     "metadata": {},
     "output_type": "execute_result"
    }
   ],
   "source": [
    "data = pd.read_csv('../Data/all_in_one.csv')\n",
    "data.Datetime = pd.to_datetime(data.Datetime)\n",
    "data.head()"
   ]
  },
  {
   "cell_type": "code",
   "execution_count": 3,
   "metadata": {},
   "outputs": [
    {
     "data": {
      "text/html": [
       "<div>\n",
       "<style scoped>\n",
       "    .dataframe tbody tr th:only-of-type {\n",
       "        vertical-align: middle;\n",
       "    }\n",
       "\n",
       "    .dataframe tbody tr th {\n",
       "        vertical-align: top;\n",
       "    }\n",
       "\n",
       "    .dataframe thead th {\n",
       "        text-align: right;\n",
       "    }\n",
       "</style>\n",
       "<table border=\"1\" class=\"dataframe\">\n",
       "  <thead>\n",
       "    <tr style=\"text-align: right;\">\n",
       "      <th></th>\n",
       "      <th>Datetime</th>\n",
       "      <th>temp</th>\n",
       "      <th>desc</th>\n",
       "      <th>icon</th>\n",
       "      <th>baro</th>\n",
       "      <th>wind</th>\n",
       "      <th>wd</th>\n",
       "      <th>hum</th>\n",
       "      <th>rain</th>\n",
       "      <th>fog</th>\n",
       "      <th>...</th>\n",
       "      <th>curfew</th>\n",
       "      <th>etat_barre_ce</th>\n",
       "      <th>q_ce</th>\n",
       "      <th>k_ce</th>\n",
       "      <th>etat_barre_lc</th>\n",
       "      <th>q_lc</th>\n",
       "      <th>k_lc</th>\n",
       "      <th>etat_barre_pv</th>\n",
       "      <th>q_pv</th>\n",
       "      <th>k_pv</th>\n",
       "    </tr>\n",
       "  </thead>\n",
       "  <tbody>\n",
       "    <tr>\n",
       "      <th>0</th>\n",
       "      <td>2014-01-01 00:00:00</td>\n",
       "      <td>7.0</td>\n",
       "      <td>Low clouds.</td>\n",
       "      <td>17.0</td>\n",
       "      <td>1011.0</td>\n",
       "      <td>15.0</td>\n",
       "      <td>220.0</td>\n",
       "      <td>92.0</td>\n",
       "      <td>0.0</td>\n",
       "      <td>0.0</td>\n",
       "      <td>...</td>\n",
       "      <td>0.0</td>\n",
       "      <td>NaN</td>\n",
       "      <td>NaN</td>\n",
       "      <td>NaN</td>\n",
       "      <td>NaN</td>\n",
       "      <td>NaN</td>\n",
       "      <td>NaN</td>\n",
       "      <td>NaN</td>\n",
       "      <td>NaN</td>\n",
       "      <td>NaN</td>\n",
       "    </tr>\n",
       "    <tr>\n",
       "      <th>1</th>\n",
       "      <td>2014-01-01 01:00:00</td>\n",
       "      <td>6.0</td>\n",
       "      <td>Low clouds.</td>\n",
       "      <td>17.0</td>\n",
       "      <td>1011.0</td>\n",
       "      <td>15.0</td>\n",
       "      <td>220.0</td>\n",
       "      <td>92.0</td>\n",
       "      <td>0.0</td>\n",
       "      <td>0.0</td>\n",
       "      <td>...</td>\n",
       "      <td>0.0</td>\n",
       "      <td>3.0</td>\n",
       "      <td>4.0</td>\n",
       "      <td>0.00000</td>\n",
       "      <td>3.0</td>\n",
       "      <td>205.0</td>\n",
       "      <td>2.25945</td>\n",
       "      <td>3.0</td>\n",
       "      <td>486.0</td>\n",
       "      <td>6.17889</td>\n",
       "    </tr>\n",
       "    <tr>\n",
       "      <th>2</th>\n",
       "      <td>2014-01-01 02:00:00</td>\n",
       "      <td>6.0</td>\n",
       "      <td>Low clouds.</td>\n",
       "      <td>17.0</td>\n",
       "      <td>1011.0</td>\n",
       "      <td>15.0</td>\n",
       "      <td>220.0</td>\n",
       "      <td>92.0</td>\n",
       "      <td>0.0</td>\n",
       "      <td>0.0</td>\n",
       "      <td>...</td>\n",
       "      <td>0.0</td>\n",
       "      <td>3.0</td>\n",
       "      <td>21.0</td>\n",
       "      <td>0.10445</td>\n",
       "      <td>3.0</td>\n",
       "      <td>283.0</td>\n",
       "      <td>3.25111</td>\n",
       "      <td>3.0</td>\n",
       "      <td>571.0</td>\n",
       "      <td>6.66222</td>\n",
       "    </tr>\n",
       "    <tr>\n",
       "      <th>3</th>\n",
       "      <td>2014-01-01 03:00:00</td>\n",
       "      <td>6.0</td>\n",
       "      <td>Low clouds.</td>\n",
       "      <td>17.0</td>\n",
       "      <td>1011.0</td>\n",
       "      <td>15.0</td>\n",
       "      <td>220.0</td>\n",
       "      <td>92.0</td>\n",
       "      <td>0.0</td>\n",
       "      <td>0.0</td>\n",
       "      <td>...</td>\n",
       "      <td>0.0</td>\n",
       "      <td>3.0</td>\n",
       "      <td>417.0</td>\n",
       "      <td>6.12667</td>\n",
       "      <td>3.0</td>\n",
       "      <td>309.0</td>\n",
       "      <td>3.36000</td>\n",
       "      <td>3.0</td>\n",
       "      <td>532.0</td>\n",
       "      <td>5.56611</td>\n",
       "    </tr>\n",
       "    <tr>\n",
       "      <th>4</th>\n",
       "      <td>2014-01-01 04:00:00</td>\n",
       "      <td>6.0</td>\n",
       "      <td>Low clouds.</td>\n",
       "      <td>17.0</td>\n",
       "      <td>1011.0</td>\n",
       "      <td>15.0</td>\n",
       "      <td>220.0</td>\n",
       "      <td>92.0</td>\n",
       "      <td>0.0</td>\n",
       "      <td>0.0</td>\n",
       "      <td>...</td>\n",
       "      <td>0.0</td>\n",
       "      <td>3.0</td>\n",
       "      <td>1089.0</td>\n",
       "      <td>14.39890</td>\n",
       "      <td>3.0</td>\n",
       "      <td>277.0</td>\n",
       "      <td>3.01445</td>\n",
       "      <td>3.0</td>\n",
       "      <td>458.0</td>\n",
       "      <td>4.63444</td>\n",
       "    </tr>\n",
       "  </tbody>\n",
       "</table>\n",
       "<p>5 rows × 32 columns</p>\n",
       "</div>"
      ],
      "text/plain": [
       "             Datetime  temp         desc  icon    baro  wind     wd   hum  \\\n",
       "0 2014-01-01 00:00:00   7.0  Low clouds.  17.0  1011.0  15.0  220.0  92.0   \n",
       "1 2014-01-01 01:00:00   6.0  Low clouds.  17.0  1011.0  15.0  220.0  92.0   \n",
       "2 2014-01-01 02:00:00   6.0  Low clouds.  17.0  1011.0  15.0  220.0  92.0   \n",
       "3 2014-01-01 03:00:00   6.0  Low clouds.  17.0  1011.0  15.0  220.0  92.0   \n",
       "4 2014-01-01 04:00:00   6.0  Low clouds.  17.0  1011.0  15.0  220.0  92.0   \n",
       "\n",
       "   rain  fog  ...  curfew  etat_barre_ce    q_ce      k_ce  etat_barre_lc  \\\n",
       "0   0.0  0.0  ...     0.0            NaN     NaN       NaN            NaN   \n",
       "1   0.0  0.0  ...     0.0            3.0     4.0   0.00000            3.0   \n",
       "2   0.0  0.0  ...     0.0            3.0    21.0   0.10445            3.0   \n",
       "3   0.0  0.0  ...     0.0            3.0   417.0   6.12667            3.0   \n",
       "4   0.0  0.0  ...     0.0            3.0  1089.0  14.39890            3.0   \n",
       "\n",
       "    q_lc     k_lc  etat_barre_pv   q_pv     k_pv  \n",
       "0    NaN      NaN            NaN    NaN      NaN  \n",
       "1  205.0  2.25945            3.0  486.0  6.17889  \n",
       "2  283.0  3.25111            3.0  571.0  6.66222  \n",
       "3  309.0  3.36000            3.0  532.0  5.56611  \n",
       "4  277.0  3.01445            3.0  458.0  4.63444  \n",
       "\n",
       "[5 rows x 32 columns]"
      ]
     },
     "execution_count": 3,
     "metadata": {},
     "output_type": "execute_result"
    }
   ],
   "source": [
    "data = data[(data.Datetime <= '2020-11-30')]\n",
    "data.head()"
   ]
  },
  {
   "cell_type": "code",
   "execution_count": 4,
   "metadata": {},
   "outputs": [],
   "source": [
    "features = ['temp',\n",
    " 'icon',\n",
    " 'baro',\n",
    " 'wind',\n",
    " 'wd',\n",
    " 'hum',\n",
    " 'rain',\n",
    " 'fog',\n",
    " 'thunder',\n",
    " 'snow',\n",
    " 'Férié',\n",
    " 'Vacances',\n",
    " 'confinement_1',\n",
    " 'confinement_2',\n",
    " 'confinement_3',\n",
    " 'curfew']"
   ]
  },
  {
   "cell_type": "markdown",
   "metadata": {},
   "source": [
    "# Utils"
   ]
  },
  {
   "cell_type": "code",
   "execution_count": 5,
   "metadata": {},
   "outputs": [],
   "source": [
    "def rmse(y_true, y_pred):\n",
    "    return np.sqrt(np.mean((y_true-y_pred)**2))"
   ]
  },
  {
   "cell_type": "code",
   "execution_count": 6,
   "metadata": {},
   "outputs": [],
   "source": [
    "def create_features(df, label=None, bare=None):\n",
    "    \"\"\"\n",
    "    Creates time series features from datetime index\n",
    "    \"\"\"\n",
    "\n",
    "    df['hour'] = df['Datetime'].dt.hour\n",
    "    df['dayofweek'] = df['Datetime'].dt.dayofweek\n",
    "    df['quarter'] = df['Datetime'].dt.quarter\n",
    "    df['month'] = df['Datetime'].dt.month\n",
    "    df['year'] = df['Datetime'].dt.year\n",
    "    df['dayofyear'] = df['Datetime'].dt.dayofyear\n",
    "    df['dayofmonth'] = df['Datetime'].dt.day\n",
    "    df['weekofyear'] = df['Datetime'].dt.weekofyear\n",
    "    all_features = ['hour','dayofweek','quarter','month','year', 'dayofyear','dayofmonth','weekofyear'] + features\n",
    "    if bare is not None:\n",
    "        all_features += [bare]\n",
    "    X = df[all_features]\n",
    "    if label:\n",
    "        y = df[label]\n",
    "        return X, y\n",
    "    return X"
   ]
  },
  {
   "cell_type": "markdown",
   "metadata": {},
   "source": [
    "# Xgboost on Champs Elysées"
   ]
  },
  {
   "cell_type": "markdown",
   "metadata": {},
   "source": [
    "## Choose how many data we need"
   ]
  },
  {
   "cell_type": "code",
   "execution_count": 8,
   "metadata": {},
   "outputs": [],
   "source": [
    "historical_dates = ['2014-01-01', '2015-01-01', '2016-01-01', '2017-01-01', '2018-01-01', \n",
    "                   '2018-09-01', '2019-01-01', '2019-06-01', '2019-10-01', '2019-12-01']\n",
    "split_dates = ['2020-10-21', '2020-10-26', '2020-10-31', '2020-11-05', '2020-11-10', '2020-11-15',\n",
    "            '2020-11-20', '2020-11-25']\n",
    "limit = ['2020-10-26', '2020-10-31', '2020-11-05', '2020-11-10', '2020-11-15', '2020-11-20', '2020-11-25', '2020-11-30']"
   ]
  },
  {
   "cell_type": "code",
   "execution_count": 10,
   "metadata": {},
   "outputs": [
    {
     "name": "stderr",
     "output_type": "stream",
     "text": [
      "<ipython-input-6-20d5a858f4c2>:13: FutureWarning: Series.dt.weekofyear and Series.dt.week have been deprecated.  Please use Series.dt.isocalendar().week instead.\n",
      "  df['weekofyear'] = df['Datetime'].dt.weekofyear\n"
     ]
    }
   ],
   "source": [
    "## Q Champs elysées\n",
    "score_rmse = {k: [] for k in historical_dates}\n",
    "for date in historical_dates:\n",
    "    our_data = data[data.Datetime >= date]\n",
    "    for i, split_date in enumerate(split_dates):\n",
    "        max_date = limit[i]\n",
    "        data_train = our_data.loc[our_data.Datetime < split_date].copy()\n",
    "        data_train = data_train[data_train.q_ce.notnull()]\n",
    "        data_test = our_data.loc[(our_data.Datetime >= split_date) & (our_data.Datetime < max_date)].copy()\n",
    "        data_test = data_test[data_test.q_ce.notnull()]\n",
    "        X_train, y_train = create_features(data_train, label='q_ce')\n",
    "        X_test, y_test = create_features(data_test, label='q_ce')\n",
    "        reg = xgb.XGBRegressor(n_estimators=1000)\n",
    "        reg.fit(X_train, y_train, eval_set=[(X_train, y_train), (X_test, y_test)],\n",
    "                early_stopping_rounds=60, verbose=False)\n",
    "        score_rmse[date].append(rmse(y_test.values, reg.predict(X_test)))"
   ]
  },
  {
   "cell_type": "code",
   "execution_count": 12,
   "metadata": {},
   "outputs": [],
   "source": [
    "score_rmse_q = {k: sum(v)/len(v) for k,v in score_rmse.items()}"
   ]
  },
  {
   "cell_type": "code",
   "execution_count": 13,
   "metadata": {},
   "outputs": [
    {
     "data": {
      "text/plain": [
       "{'2014-01-01': 194.24291312976428,\n",
       " '2015-01-01': 184.9835581457528,\n",
       " '2016-01-01': 193.25900117460873,\n",
       " '2017-01-01': 206.12325669633015,\n",
       " '2018-01-01': 197.8110752406897,\n",
       " '2018-09-01': 183.93377068382517,\n",
       " '2019-01-01': 187.4710482060804,\n",
       " '2019-06-01': 185.21794205527485,\n",
       " '2019-10-01': 178.5249247949651,\n",
       " '2019-12-01': 165.87494063100215}"
      ]
     },
     "execution_count": 13,
     "metadata": {},
     "output_type": "execute_result"
    }
   ],
   "source": [
    "score_rmse_q"
   ]
  },
  {
   "cell_type": "code",
   "execution_count": 14,
   "metadata": {},
   "outputs": [
    {
     "name": "stderr",
     "output_type": "stream",
     "text": [
      "<ipython-input-6-20d5a858f4c2>:13: FutureWarning: Series.dt.weekofyear and Series.dt.week have been deprecated.  Please use Series.dt.isocalendar().week instead.\n",
      "  df['weekofyear'] = df['Datetime'].dt.weekofyear\n"
     ]
    }
   ],
   "source": [
    "## Q Champs elysées\n",
    "score_rmse_k = {k: [] for k in historical_dates}\n",
    "for date in historical_dates:\n",
    "    our_data = data[data.Datetime >= date]\n",
    "    for i, split_date in enumerate(split_dates):\n",
    "        max_date = limit[i]\n",
    "        data_train = our_data.loc[our_data.Datetime < split_date].copy()\n",
    "        data_train = data_train[data_train.k_ce.notnull()]\n",
    "        data_test = our_data.loc[(our_data.Datetime >= split_date) & (our_data.Datetime < max_date)].copy()\n",
    "        data_test = data_test[data_test.k_ce.notnull()]\n",
    "        X_train, y_train = create_features(data_train, label='k_ce')\n",
    "        X_test, y_test = create_features(data_test, label='k_ce')\n",
    "        reg = xgb.XGBRegressor(n_estimators=1000)\n",
    "        reg.fit(X_train, y_train, eval_set=[(X_train, y_train), (X_test, y_test)],\n",
    "                early_stopping_rounds=60, verbose=False)\n",
    "        score_rmse_k[date].append(rmse(y_test.values, reg.predict(X_test)))"
   ]
  },
  {
   "cell_type": "code",
   "execution_count": 15,
   "metadata": {},
   "outputs": [],
   "source": [
    "score_rmse_k = {k: sum(v)/len(v) for k,v in score_rmse_k.items()}"
   ]
  },
  {
   "cell_type": "code",
   "execution_count": 16,
   "metadata": {},
   "outputs": [
    {
     "data": {
      "text/plain": [
       "{'2014-01-01': 4.204796602893334,\n",
       " '2015-01-01': 4.090977463104782,\n",
       " '2016-01-01': 4.1646714111791745,\n",
       " '2017-01-01': 4.154030817231476,\n",
       " '2018-01-01': 4.18696893865218,\n",
       " '2018-09-01': 4.229964766120116,\n",
       " '2019-01-01': 4.3678804796319906,\n",
       " '2019-06-01': 3.9239256879698905,\n",
       " '2019-10-01': 3.7014836441698344,\n",
       " '2019-12-01': 3.845394717240406}"
      ]
     },
     "execution_count": 16,
     "metadata": {},
     "output_type": "execute_result"
    }
   ],
   "source": [
    "score_rmse_k"
   ]
  },
  {
   "cell_type": "markdown",
   "metadata": {},
   "source": [
    "We will take only data from 2019-11-01"
   ]
  },
  {
   "cell_type": "code",
   "execution_count": 22,
   "metadata": {},
   "outputs": [
    {
     "data": {
      "image/png": "[encoded data removed]",
      "text/plain": [
       "<Figure size 432x288 with 1 Axes>"
      ]
     },
     "metadata": {},
     "output_type": "display_data"
    }
   ],
   "source": [
    "_ = plot_importance(reg, height=0.9)"
   ]
  },
  {
   "cell_type": "markdown",
   "metadata": {},
   "source": [
    "## COVID INFLUENCE"
   ]
  },
  {
   "cell_type": "code",
   "execution_count": 33,
   "metadata": {},
   "outputs": [],
   "source": [
    "data = data[data.Datetime>='2019-01-01']"
   ]
  },
  {
   "cell_type": "code",
   "execution_count": 34,
   "metadata": {},
   "outputs": [
    {
     "data": {
      "text/plain": [
       "473.8671111111111"
      ]
     },
     "execution_count": 34,
     "metadata": {},
     "output_type": "execute_result"
    }
   ],
   "source": [
    "data[(data.confinement_1==1) | (data.confinement_2==1) | (data.confinement_3==1)].q_ce.mean()"
   ]
  },
  {
   "cell_type": "code",
   "execution_count": 35,
   "metadata": {},
   "outputs": [
    {
     "data": {
      "text/plain": [
       "788.6646402398401"
      ]
     },
     "execution_count": 35,
     "metadata": {},
     "output_type": "execute_result"
    }
   ],
   "source": [
    "data[(data.confinement_1==0) & (data.confinement_2==0) & (data.confinement_3==0)].q_ce.mean()"
   ]
  },
  {
   "cell_type": "code",
   "execution_count": 36,
   "metadata": {},
   "outputs": [
    {
     "data": {
      "text/plain": [
       "7.371574862222222"
      ]
     },
     "execution_count": 36,
     "metadata": {},
     "output_type": "execute_result"
    }
   ],
   "source": [
    "data[(data.confinement_1==1) | (data.confinement_2==1) | (data.confinement_3==1)].k_ce.mean()"
   ]
  },
  {
   "cell_type": "code",
   "execution_count": 37,
   "metadata": {},
   "outputs": [
    {
     "data": {
      "text/plain": [
       "13.955284708563417"
      ]
     },
     "execution_count": 37,
     "metadata": {},
     "output_type": "execute_result"
    }
   ],
   "source": [
    "data[(data.confinement_1==0) & (data.confinement_2==0) & (data.confinement_3==0)].k_ce.mean()"
   ]
  },
  {
   "cell_type": "markdown",
   "metadata": {},
   "source": [
    "We can see that during the covid we have less trafic"
   ]
  }
 ],
 "metadata": {
  "kernelspec": {
   "display_name": "Python 3",
   "language": "python",
   "name": "python3"
  },
  "language_info": {
   "codemirror_mode": {
    "name": "ipython",
    "version": 3
   },
   "file_extension": ".py",
   "mimetype": "text/x-python",
   "name": "python",
   "nbconvert_exporter": "python",
   "pygments_lexer": "ipython3",
   "version": "3.8.3"
  }
 },
 "nbformat": 4,
 "nbformat_minor": 4
}
