{
 "cells": [
  {
   "cell_type": "code",
   "execution_count": 1,
   "metadata": {},
   "outputs": [],
   "source": [
    "import pandas as pd\n",
    "import numpy as np\n",
    "import matplotlib.pyplot as plt\n",
    "from fbprophet.diagnostics import cross_validation\n",
    "from fbprophet import Prophet\n",
    "from fbprophet.diagnostics import performance_metrics\n",
    "from neuralprophet import NeuralProphet\n",
    "from neuralprophet import set_random_seed \n",
    "set_random_seed(0)"
   ]
  },
  {
   "cell_type": "code",
   "execution_count": 2,
   "metadata": {
    "collapsed": true
   },
   "outputs": [
    {
     "data": {
      "text/html": [
       "<div>\n",
       "<style scoped>\n",
       "    .dataframe tbody tr th:only-of-type {\n",
       "        vertical-align: middle;\n",
       "    }\n",
       "\n",
       "    .dataframe tbody tr th {\n",
       "        vertical-align: top;\n",
       "    }\n",
       "\n",
       "    .dataframe thead th {\n",
       "        text-align: right;\n",
       "    }\n",
       "</style>\n",
       "<table border=\"1\" class=\"dataframe\">\n",
       "  <thead>\n",
       "    <tr style=\"text-align: right;\">\n",
       "      <th></th>\n",
       "      <th>Datetime</th>\n",
       "      <th>temp</th>\n",
       "      <th>desc</th>\n",
       "      <th>icon</th>\n",
       "      <th>baro</th>\n",
       "      <th>wind</th>\n",
       "      <th>wd</th>\n",
       "      <th>hum</th>\n",
       "      <th>rain</th>\n",
       "      <th>fog</th>\n",
       "      <th>...</th>\n",
       "      <th>curfew</th>\n",
       "      <th>etat_barre_ce</th>\n",
       "      <th>q_ce</th>\n",
       "      <th>k_ce</th>\n",
       "      <th>etat_barre_lc</th>\n",
       "      <th>q_lc</th>\n",
       "      <th>k_lc</th>\n",
       "      <th>etat_barre_pv</th>\n",
       "      <th>q_pv</th>\n",
       "      <th>k_pv</th>\n",
       "    </tr>\n",
       "  </thead>\n",
       "  <tbody>\n",
       "    <tr>\n",
       "      <th>0</th>\n",
       "      <td>2014-01-01 00:00:00</td>\n",
       "      <td>7.0</td>\n",
       "      <td>Low clouds.</td>\n",
       "      <td>17.0</td>\n",
       "      <td>1011.0</td>\n",
       "      <td>15.0</td>\n",
       "      <td>220.0</td>\n",
       "      <td>92.0</td>\n",
       "      <td>0.0</td>\n",
       "      <td>0.0</td>\n",
       "      <td>...</td>\n",
       "      <td>0.0</td>\n",
       "      <td>NaN</td>\n",
       "      <td>NaN</td>\n",
       "      <td>NaN</td>\n",
       "      <td>NaN</td>\n",
       "      <td>NaN</td>\n",
       "      <td>NaN</td>\n",
       "      <td>NaN</td>\n",
       "      <td>NaN</td>\n",
       "      <td>NaN</td>\n",
       "    </tr>\n",
       "    <tr>\n",
       "      <th>1</th>\n",
       "      <td>2014-01-01 01:00:00</td>\n",
       "      <td>6.0</td>\n",
       "      <td>Low clouds.</td>\n",
       "      <td>17.0</td>\n",
       "      <td>1011.0</td>\n",
       "      <td>15.0</td>\n",
       "      <td>220.0</td>\n",
       "      <td>92.0</td>\n",
       "      <td>0.0</td>\n",
       "      <td>0.0</td>\n",
       "      <td>...</td>\n",
       "      <td>0.0</td>\n",
       "      <td>3.0</td>\n",
       "      <td>4.0</td>\n",
       "      <td>0.00000</td>\n",
       "      <td>3.0</td>\n",
       "      <td>205.0</td>\n",
       "      <td>2.25945</td>\n",
       "      <td>3.0</td>\n",
       "      <td>486.0</td>\n",
       "      <td>6.17889</td>\n",
       "    </tr>\n",
       "    <tr>\n",
       "      <th>2</th>\n",
       "      <td>2014-01-01 02:00:00</td>\n",
       "      <td>6.0</td>\n",
       "      <td>Low clouds.</td>\n",
       "      <td>17.0</td>\n",
       "      <td>1011.0</td>\n",
       "      <td>15.0</td>\n",
       "      <td>220.0</td>\n",
       "      <td>92.0</td>\n",
       "      <td>0.0</td>\n",
       "      <td>0.0</td>\n",
       "      <td>...</td>\n",
       "      <td>0.0</td>\n",
       "      <td>3.0</td>\n",
       "      <td>21.0</td>\n",
       "      <td>0.10445</td>\n",
       "      <td>3.0</td>\n",
       "      <td>283.0</td>\n",
       "      <td>3.25111</td>\n",
       "      <td>3.0</td>\n",
       "      <td>571.0</td>\n",
       "      <td>6.66222</td>\n",
       "    </tr>\n",
       "    <tr>\n",
       "      <th>3</th>\n",
       "      <td>2014-01-01 03:00:00</td>\n",
       "      <td>6.0</td>\n",
       "      <td>Low clouds.</td>\n",
       "      <td>17.0</td>\n",
       "      <td>1011.0</td>\n",
       "      <td>15.0</td>\n",
       "      <td>220.0</td>\n",
       "      <td>92.0</td>\n",
       "      <td>0.0</td>\n",
       "      <td>0.0</td>\n",
       "      <td>...</td>\n",
       "      <td>0.0</td>\n",
       "      <td>3.0</td>\n",
       "      <td>417.0</td>\n",
       "      <td>6.12667</td>\n",
       "      <td>3.0</td>\n",
       "      <td>309.0</td>\n",
       "      <td>3.36000</td>\n",
       "      <td>3.0</td>\n",
       "      <td>532.0</td>\n",
       "      <td>5.56611</td>\n",
       "    </tr>\n",
       "    <tr>\n",
       "      <th>4</th>\n",
       "      <td>2014-01-01 04:00:00</td>\n",
       "      <td>6.0</td>\n",
       "      <td>Low clouds.</td>\n",
       "      <td>17.0</td>\n",
       "      <td>1011.0</td>\n",
       "      <td>15.0</td>\n",
       "      <td>220.0</td>\n",
       "      <td>92.0</td>\n",
       "      <td>0.0</td>\n",
       "      <td>0.0</td>\n",
       "      <td>...</td>\n",
       "      <td>0.0</td>\n",
       "      <td>3.0</td>\n",
       "      <td>1089.0</td>\n",
       "      <td>14.39890</td>\n",
       "      <td>3.0</td>\n",
       "      <td>277.0</td>\n",
       "      <td>3.01445</td>\n",
       "      <td>3.0</td>\n",
       "      <td>458.0</td>\n",
       "      <td>4.63444</td>\n",
       "    </tr>\n",
       "  </tbody>\n",
       "</table>\n",
       "<p>5 rows × 32 columns</p>\n",
       "</div>"
      ],
      "text/plain": [
       "              Datetime  temp         desc  icon    baro  wind     wd   hum  \\\n",
       "0  2014-01-01 00:00:00   7.0  Low clouds.  17.0  1011.0  15.0  220.0  92.0   \n",
       "1  2014-01-01 01:00:00   6.0  Low clouds.  17.0  1011.0  15.0  220.0  92.0   \n",
       "2  2014-01-01 02:00:00   6.0  Low clouds.  17.0  1011.0  15.0  220.0  92.0   \n",
       "3  2014-01-01 03:00:00   6.0  Low clouds.  17.0  1011.0  15.0  220.0  92.0   \n",
       "4  2014-01-01 04:00:00   6.0  Low clouds.  17.0  1011.0  15.0  220.0  92.0   \n",
       "\n",
       "   rain  fog  ...  curfew  etat_barre_ce    q_ce      k_ce  etat_barre_lc  \\\n",
       "0   0.0  0.0  ...     0.0            NaN     NaN       NaN            NaN   \n",
       "1   0.0  0.0  ...     0.0            3.0     4.0   0.00000            3.0   \n",
       "2   0.0  0.0  ...     0.0            3.0    21.0   0.10445            3.0   \n",
       "3   0.0  0.0  ...     0.0            3.0   417.0   6.12667            3.0   \n",
       "4   0.0  0.0  ...     0.0            3.0  1089.0  14.39890            3.0   \n",
       "\n",
       "    q_lc     k_lc  etat_barre_pv   q_pv     k_pv  \n",
       "0    NaN      NaN            NaN    NaN      NaN  \n",
       "1  205.0  2.25945            3.0  486.0  6.17889  \n",
       "2  283.0  3.25111            3.0  571.0  6.66222  \n",
       "3  309.0  3.36000            3.0  532.0  5.56611  \n",
       "4  277.0  3.01445            3.0  458.0  4.63444  \n",
       "\n",
       "[5 rows x 32 columns]"
      ]
     },
     "execution_count": 2,
     "metadata": {},
     "output_type": "execute_result"
    }
   ],
   "source": [
    "data = pd.read_csv('../Data/all_in_one.csv')\n",
    "data.head()"
   ]
  },
  {
   "cell_type": "code",
   "execution_count": 3,
   "metadata": {},
   "outputs": [
    {
     "data": {
      "text/html": [
       "<div>\n",
       "<style scoped>\n",
       "    .dataframe tbody tr th:only-of-type {\n",
       "        vertical-align: middle;\n",
       "    }\n",
       "\n",
       "    .dataframe tbody tr th {\n",
       "        vertical-align: top;\n",
       "    }\n",
       "\n",
       "    .dataframe thead th {\n",
       "        text-align: right;\n",
       "    }\n",
       "</style>\n",
       "<table border=\"1\" class=\"dataframe\">\n",
       "  <thead>\n",
       "    <tr style=\"text-align: right;\">\n",
       "      <th></th>\n",
       "      <th>temp</th>\n",
       "      <th>icon</th>\n",
       "      <th>baro</th>\n",
       "      <th>wind</th>\n",
       "      <th>wd</th>\n",
       "      <th>hum</th>\n",
       "      <th>rain</th>\n",
       "      <th>fog</th>\n",
       "      <th>thunder</th>\n",
       "      <th>snow</th>\n",
       "      <th>...</th>\n",
       "      <th>curfew</th>\n",
       "      <th>etat_barre_ce</th>\n",
       "      <th>q_ce</th>\n",
       "      <th>k_ce</th>\n",
       "      <th>etat_barre_lc</th>\n",
       "      <th>q_lc</th>\n",
       "      <th>k_lc</th>\n",
       "      <th>etat_barre_pv</th>\n",
       "      <th>q_pv</th>\n",
       "      <th>k_pv</th>\n",
       "    </tr>\n",
       "  </thead>\n",
       "  <tbody>\n",
       "    <tr>\n",
       "      <th>count</th>\n",
       "      <td>60505.000000</td>\n",
       "      <td>60648.000000</td>\n",
       "      <td>60648.000000</td>\n",
       "      <td>60648.000000</td>\n",
       "      <td>60648.000000</td>\n",
       "      <td>60648.000000</td>\n",
       "      <td>61368.000000</td>\n",
       "      <td>61368.000000</td>\n",
       "      <td>61368.000000</td>\n",
       "      <td>61368.000000</td>\n",
       "      <td>...</td>\n",
       "      <td>61368.000000</td>\n",
       "      <td>60545.000000</td>\n",
       "      <td>56554.000000</td>\n",
       "      <td>55899.000000</td>\n",
       "      <td>60548.000000</td>\n",
       "      <td>59582.000000</td>\n",
       "      <td>59668.000000</td>\n",
       "      <td>60547.000000</td>\n",
       "      <td>58906.000000</td>\n",
       "      <td>58907.000000</td>\n",
       "    </tr>\n",
       "    <tr>\n",
       "      <th>mean</th>\n",
       "      <td>12.380960</td>\n",
       "      <td>9.612881</td>\n",
       "      <td>1014.118619</td>\n",
       "      <td>12.511674</td>\n",
       "      <td>171.266324</td>\n",
       "      <td>74.772556</td>\n",
       "      <td>0.051525</td>\n",
       "      <td>0.080172</td>\n",
       "      <td>0.002346</td>\n",
       "      <td>0.001564</td>\n",
       "      <td>...</td>\n",
       "      <td>0.005149</td>\n",
       "      <td>2.983880</td>\n",
       "      <td>1179.864324</td>\n",
       "      <td>9.751981</td>\n",
       "      <td>2.999835</td>\n",
       "      <td>499.960642</td>\n",
       "      <td>6.632829</td>\n",
       "      <td>2.969990</td>\n",
       "      <td>483.401063</td>\n",
       "      <td>7.433277</td>\n",
       "    </tr>\n",
       "    <tr>\n",
       "      <th>std</th>\n",
       "      <td>6.983427</td>\n",
       "      <td>6.946060</td>\n",
       "      <td>50.676184</td>\n",
       "      <td>6.074135</td>\n",
       "      <td>110.274874</td>\n",
       "      <td>17.679752</td>\n",
       "      <td>0.221068</td>\n",
       "      <td>0.271562</td>\n",
       "      <td>0.048384</td>\n",
       "      <td>0.039521</td>\n",
       "      <td>...</td>\n",
       "      <td>0.071574</td>\n",
       "      <td>0.125939</td>\n",
       "      <td>625.661223</td>\n",
       "      <td>7.915059</td>\n",
       "      <td>0.012850</td>\n",
       "      <td>309.902459</td>\n",
       "      <td>8.255011</td>\n",
       "      <td>0.170615</td>\n",
       "      <td>305.480100</td>\n",
       "      <td>6.527415</td>\n",
       "    </tr>\n",
       "    <tr>\n",
       "      <th>min</th>\n",
       "      <td>-8.000000</td>\n",
       "      <td>1.000000</td>\n",
       "      <td>0.000000</td>\n",
       "      <td>0.000000</td>\n",
       "      <td>0.000000</td>\n",
       "      <td>0.000000</td>\n",
       "      <td>0.000000</td>\n",
       "      <td>0.000000</td>\n",
       "      <td>0.000000</td>\n",
       "      <td>0.000000</td>\n",
       "      <td>...</td>\n",
       "      <td>0.000000</td>\n",
       "      <td>2.000000</td>\n",
       "      <td>0.000000</td>\n",
       "      <td>0.000000</td>\n",
       "      <td>2.000000</td>\n",
       "      <td>8.000000</td>\n",
       "      <td>0.016670</td>\n",
       "      <td>2.000000</td>\n",
       "      <td>0.000000</td>\n",
       "      <td>0.000000</td>\n",
       "    </tr>\n",
       "    <tr>\n",
       "      <th>25%</th>\n",
       "      <td>7.000000</td>\n",
       "      <td>2.000000</td>\n",
       "      <td>1012.000000</td>\n",
       "      <td>8.000000</td>\n",
       "      <td>60.000000</td>\n",
       "      <td>63.000000</td>\n",
       "      <td>0.000000</td>\n",
       "      <td>0.000000</td>\n",
       "      <td>0.000000</td>\n",
       "      <td>0.000000</td>\n",
       "      <td>...</td>\n",
       "      <td>0.000000</td>\n",
       "      <td>3.000000</td>\n",
       "      <td>668.000000</td>\n",
       "      <td>4.815560</td>\n",
       "      <td>3.000000</td>\n",
       "      <td>222.000000</td>\n",
       "      <td>1.658330</td>\n",
       "      <td>3.000000</td>\n",
       "      <td>237.000000</td>\n",
       "      <td>2.761945</td>\n",
       "    </tr>\n",
       "    <tr>\n",
       "      <th>50%</th>\n",
       "      <td>12.000000</td>\n",
       "      <td>9.000000</td>\n",
       "      <td>1017.000000</td>\n",
       "      <td>12.000000</td>\n",
       "      <td>200.000000</td>\n",
       "      <td>79.000000</td>\n",
       "      <td>0.000000</td>\n",
       "      <td>0.000000</td>\n",
       "      <td>0.000000</td>\n",
       "      <td>0.000000</td>\n",
       "      <td>...</td>\n",
       "      <td>0.000000</td>\n",
       "      <td>3.000000</td>\n",
       "      <td>1144.000000</td>\n",
       "      <td>8.486670</td>\n",
       "      <td>3.000000</td>\n",
       "      <td>480.000000</td>\n",
       "      <td>3.790280</td>\n",
       "      <td>3.000000</td>\n",
       "      <td>503.000000</td>\n",
       "      <td>6.034440</td>\n",
       "    </tr>\n",
       "    <tr>\n",
       "      <th>75%</th>\n",
       "      <td>17.000000</td>\n",
       "      <td>14.000000</td>\n",
       "      <td>1022.000000</td>\n",
       "      <td>16.000000</td>\n",
       "      <td>250.000000</td>\n",
       "      <td>89.000000</td>\n",
       "      <td>0.000000</td>\n",
       "      <td>0.000000</td>\n",
       "      <td>0.000000</td>\n",
       "      <td>0.000000</td>\n",
       "      <td>...</td>\n",
       "      <td>0.000000</td>\n",
       "      <td>3.000000</td>\n",
       "      <td>1708.000000</td>\n",
       "      <td>11.392200</td>\n",
       "      <td>3.000000</td>\n",
       "      <td>751.000000</td>\n",
       "      <td>7.691110</td>\n",
       "      <td>3.000000</td>\n",
       "      <td>701.000000</td>\n",
       "      <td>9.812780</td>\n",
       "    </tr>\n",
       "    <tr>\n",
       "      <th>max</th>\n",
       "      <td>40.000000</td>\n",
       "      <td>36.000000</td>\n",
       "      <td>1046.000000</td>\n",
       "      <td>45.000000</td>\n",
       "      <td>350.000000</td>\n",
       "      <td>100.000000</td>\n",
       "      <td>1.000000</td>\n",
       "      <td>1.000000</td>\n",
       "      <td>1.000000</td>\n",
       "      <td>1.000000</td>\n",
       "      <td>...</td>\n",
       "      <td>1.000000</td>\n",
       "      <td>3.000000</td>\n",
       "      <td>6530.000000</td>\n",
       "      <td>84.668890</td>\n",
       "      <td>3.000000</td>\n",
       "      <td>1386.000000</td>\n",
       "      <td>65.470000</td>\n",
       "      <td>3.000000</td>\n",
       "      <td>33272.000000</td>\n",
       "      <td>100.000000</td>\n",
       "    </tr>\n",
       "  </tbody>\n",
       "</table>\n",
       "<p>8 rows × 30 columns</p>\n",
       "</div>"
      ],
      "text/plain": [
       "               temp          icon          baro          wind            wd  \\\n",
       "count  60505.000000  60648.000000  60648.000000  60648.000000  60648.000000   \n",
       "mean      12.380960      9.612881   1014.118619     12.511674    171.266324   \n",
       "std        6.983427      6.946060     50.676184      6.074135    110.274874   \n",
       "min       -8.000000      1.000000      0.000000      0.000000      0.000000   \n",
       "25%        7.000000      2.000000   1012.000000      8.000000     60.000000   \n",
       "50%       12.000000      9.000000   1017.000000     12.000000    200.000000   \n",
       "75%       17.000000     14.000000   1022.000000     16.000000    250.000000   \n",
       "max       40.000000     36.000000   1046.000000     45.000000    350.000000   \n",
       "\n",
       "                hum          rain           fog       thunder          snow  \\\n",
       "count  60648.000000  61368.000000  61368.000000  61368.000000  61368.000000   \n",
       "mean      74.772556      0.051525      0.080172      0.002346      0.001564   \n",
       "std       17.679752      0.221068      0.271562      0.048384      0.039521   \n",
       "min        0.000000      0.000000      0.000000      0.000000      0.000000   \n",
       "25%       63.000000      0.000000      0.000000      0.000000      0.000000   \n",
       "50%       79.000000      0.000000      0.000000      0.000000      0.000000   \n",
       "75%       89.000000      0.000000      0.000000      0.000000      0.000000   \n",
       "max      100.000000      1.000000      1.000000      1.000000      1.000000   \n",
       "\n",
       "       ...        curfew  etat_barre_ce          q_ce          k_ce  \\\n",
       "count  ...  61368.000000   60545.000000  56554.000000  55899.000000   \n",
       "mean   ...      0.005149       2.983880   1179.864324      9.751981   \n",
       "std    ...      0.071574       0.125939    625.661223      7.915059   \n",
       "min    ...      0.000000       2.000000      0.000000      0.000000   \n",
       "25%    ...      0.000000       3.000000    668.000000      4.815560   \n",
       "50%    ...      0.000000       3.000000   1144.000000      8.486670   \n",
       "75%    ...      0.000000       3.000000   1708.000000     11.392200   \n",
       "max    ...      1.000000       3.000000   6530.000000     84.668890   \n",
       "\n",
       "       etat_barre_lc          q_lc          k_lc  etat_barre_pv          q_pv  \\\n",
       "count   60548.000000  59582.000000  59668.000000   60547.000000  58906.000000   \n",
       "mean        2.999835    499.960642      6.632829       2.969990    483.401063   \n",
       "std         0.012850    309.902459      8.255011       0.170615    305.480100   \n",
       "min         2.000000      8.000000      0.016670       2.000000      0.000000   \n",
       "25%         3.000000    222.000000      1.658330       3.000000    237.000000   \n",
       "50%         3.000000    480.000000      3.790280       3.000000    503.000000   \n",
       "75%         3.000000    751.000000      7.691110       3.000000    701.000000   \n",
       "max         3.000000   1386.000000     65.470000       3.000000  33272.000000   \n",
       "\n",
       "               k_pv  \n",
       "count  58907.000000  \n",
       "mean       7.433277  \n",
       "std        6.527415  \n",
       "min        0.000000  \n",
       "25%        2.761945  \n",
       "50%        6.034440  \n",
       "75%        9.812780  \n",
       "max      100.000000  \n",
       "\n",
       "[8 rows x 30 columns]"
      ]
     },
     "execution_count": 3,
     "metadata": {},
     "output_type": "execute_result"
    }
   ],
   "source": [
    "data.describe()"
   ]
  },
  {
   "cell_type": "code",
   "execution_count": 4,
   "metadata": {},
   "outputs": [],
   "source": [
    "data = data[(data.Datetime < '2020-11-30') & (data.Datetime >= '2018-01-01')]"
   ]
  },
  {
   "cell_type": "code",
   "execution_count": 5,
   "metadata": {
    "collapsed": true
   },
   "outputs": [
    {
     "data": {
      "text/html": [
       "<div>\n",
       "<style scoped>\n",
       "    .dataframe tbody tr th:only-of-type {\n",
       "        vertical-align: middle;\n",
       "    }\n",
       "\n",
       "    .dataframe tbody tr th {\n",
       "        vertical-align: top;\n",
       "    }\n",
       "\n",
       "    .dataframe thead th {\n",
       "        text-align: right;\n",
       "    }\n",
       "</style>\n",
       "<table border=\"1\" class=\"dataframe\">\n",
       "  <thead>\n",
       "    <tr style=\"text-align: right;\">\n",
       "      <th></th>\n",
       "      <th>temp</th>\n",
       "      <th>icon</th>\n",
       "      <th>baro</th>\n",
       "      <th>wind</th>\n",
       "      <th>wd</th>\n",
       "      <th>hum</th>\n",
       "      <th>rain</th>\n",
       "      <th>fog</th>\n",
       "      <th>thunder</th>\n",
       "      <th>snow</th>\n",
       "      <th>...</th>\n",
       "      <th>curfew</th>\n",
       "      <th>etat_barre_ce</th>\n",
       "      <th>q_ce</th>\n",
       "      <th>k_ce</th>\n",
       "      <th>etat_barre_lc</th>\n",
       "      <th>q_lc</th>\n",
       "      <th>k_lc</th>\n",
       "      <th>etat_barre_pv</th>\n",
       "      <th>q_pv</th>\n",
       "      <th>k_pv</th>\n",
       "    </tr>\n",
       "  </thead>\n",
       "  <tbody>\n",
       "    <tr>\n",
       "      <th>count</th>\n",
       "      <td>25206.000000</td>\n",
       "      <td>25296.000000</td>\n",
       "      <td>25296.000000</td>\n",
       "      <td>25296.000000</td>\n",
       "      <td>25296.000000</td>\n",
       "      <td>25296.000000</td>\n",
       "      <td>25536.000000</td>\n",
       "      <td>25536.000000</td>\n",
       "      <td>25536.000000</td>\n",
       "      <td>25536.000000</td>\n",
       "      <td>...</td>\n",
       "      <td>25536.000000</td>\n",
       "      <td>25483.000000</td>\n",
       "      <td>22851.000000</td>\n",
       "      <td>22278.000000</td>\n",
       "      <td>25486.000000</td>\n",
       "      <td>25249.000000</td>\n",
       "      <td>25256.000000</td>\n",
       "      <td>25485.000000</td>\n",
       "      <td>24152.000000</td>\n",
       "      <td>24153.000000</td>\n",
       "    </tr>\n",
       "    <tr>\n",
       "      <th>mean</th>\n",
       "      <td>12.842260</td>\n",
       "      <td>9.662951</td>\n",
       "      <td>1012.470114</td>\n",
       "      <td>13.205408</td>\n",
       "      <td>164.592030</td>\n",
       "      <td>73.117173</td>\n",
       "      <td>0.050282</td>\n",
       "      <td>0.075658</td>\n",
       "      <td>0.002820</td>\n",
       "      <td>0.003289</td>\n",
       "      <td>...</td>\n",
       "      <td>0.005091</td>\n",
       "      <td>2.978378</td>\n",
       "      <td>884.838563</td>\n",
       "      <td>10.808077</td>\n",
       "      <td>2.999882</td>\n",
       "      <td>588.272050</td>\n",
       "      <td>7.034260</td>\n",
       "      <td>2.929880</td>\n",
       "      <td>406.892224</td>\n",
       "      <td>5.756469</td>\n",
       "    </tr>\n",
       "    <tr>\n",
       "      <th>std</th>\n",
       "      <td>7.238643</td>\n",
       "      <td>7.097960</td>\n",
       "      <td>61.207146</td>\n",
       "      <td>6.300860</td>\n",
       "      <td>111.144594</td>\n",
       "      <td>18.657378</td>\n",
       "      <td>0.218530</td>\n",
       "      <td>0.264455</td>\n",
       "      <td>0.053026</td>\n",
       "      <td>0.057261</td>\n",
       "      <td>...</td>\n",
       "      <td>0.071170</td>\n",
       "      <td>0.145450</td>\n",
       "      <td>492.173746</td>\n",
       "      <td>9.708492</td>\n",
       "      <td>0.010849</td>\n",
       "      <td>336.412841</td>\n",
       "      <td>8.926217</td>\n",
       "      <td>0.255354</td>\n",
       "      <td>333.415803</td>\n",
       "      <td>4.939353</td>\n",
       "    </tr>\n",
       "    <tr>\n",
       "      <th>min</th>\n",
       "      <td>-8.000000</td>\n",
       "      <td>1.000000</td>\n",
       "      <td>0.000000</td>\n",
       "      <td>0.000000</td>\n",
       "      <td>0.000000</td>\n",
       "      <td>0.000000</td>\n",
       "      <td>0.000000</td>\n",
       "      <td>0.000000</td>\n",
       "      <td>0.000000</td>\n",
       "      <td>0.000000</td>\n",
       "      <td>...</td>\n",
       "      <td>0.000000</td>\n",
       "      <td>2.000000</td>\n",
       "      <td>0.000000</td>\n",
       "      <td>0.000000</td>\n",
       "      <td>2.000000</td>\n",
       "      <td>8.000000</td>\n",
       "      <td>0.016670</td>\n",
       "      <td>2.000000</td>\n",
       "      <td>1.000000</td>\n",
       "      <td>0.000000</td>\n",
       "    </tr>\n",
       "    <tr>\n",
       "      <th>25%</th>\n",
       "      <td>7.500000</td>\n",
       "      <td>2.000000</td>\n",
       "      <td>1011.000000</td>\n",
       "      <td>9.000000</td>\n",
       "      <td>50.000000</td>\n",
       "      <td>59.000000</td>\n",
       "      <td>0.000000</td>\n",
       "      <td>0.000000</td>\n",
       "      <td>0.000000</td>\n",
       "      <td>0.000000</td>\n",
       "      <td>...</td>\n",
       "      <td>0.000000</td>\n",
       "      <td>3.000000</td>\n",
       "      <td>469.000000</td>\n",
       "      <td>4.150278</td>\n",
       "      <td>3.000000</td>\n",
       "      <td>273.000000</td>\n",
       "      <td>1.576532</td>\n",
       "      <td>3.000000</td>\n",
       "      <td>161.000000</td>\n",
       "      <td>1.928330</td>\n",
       "    </tr>\n",
       "    <tr>\n",
       "      <th>50%</th>\n",
       "      <td>12.000000</td>\n",
       "      <td>9.000000</td>\n",
       "      <td>1017.000000</td>\n",
       "      <td>12.000000</td>\n",
       "      <td>190.000000</td>\n",
       "      <td>77.000000</td>\n",
       "      <td>0.000000</td>\n",
       "      <td>0.000000</td>\n",
       "      <td>0.000000</td>\n",
       "      <td>0.000000</td>\n",
       "      <td>...</td>\n",
       "      <td>0.000000</td>\n",
       "      <td>3.000000</td>\n",
       "      <td>925.000000</td>\n",
       "      <td>8.038055</td>\n",
       "      <td>3.000000</td>\n",
       "      <td>596.000000</td>\n",
       "      <td>3.614170</td>\n",
       "      <td>3.000000</td>\n",
       "      <td>420.000000</td>\n",
       "      <td>5.008330</td>\n",
       "    </tr>\n",
       "    <tr>\n",
       "      <th>75%</th>\n",
       "      <td>18.000000</td>\n",
       "      <td>14.000000</td>\n",
       "      <td>1022.000000</td>\n",
       "      <td>17.000000</td>\n",
       "      <td>250.000000</td>\n",
       "      <td>88.000000</td>\n",
       "      <td>0.000000</td>\n",
       "      <td>0.000000</td>\n",
       "      <td>0.000000</td>\n",
       "      <td>0.000000</td>\n",
       "      <td>...</td>\n",
       "      <td>0.000000</td>\n",
       "      <td>3.000000</td>\n",
       "      <td>1190.000000</td>\n",
       "      <td>14.166528</td>\n",
       "      <td>3.000000</td>\n",
       "      <td>891.000000</td>\n",
       "      <td>8.037637</td>\n",
       "      <td>3.000000</td>\n",
       "      <td>613.000000</td>\n",
       "      <td>7.989450</td>\n",
       "    </tr>\n",
       "    <tr>\n",
       "      <th>max</th>\n",
       "      <td>40.000000</td>\n",
       "      <td>36.000000</td>\n",
       "      <td>1046.000000</td>\n",
       "      <td>45.000000</td>\n",
       "      <td>350.000000</td>\n",
       "      <td>100.000000</td>\n",
       "      <td>1.000000</td>\n",
       "      <td>1.000000</td>\n",
       "      <td>1.000000</td>\n",
       "      <td>1.000000</td>\n",
       "      <td>...</td>\n",
       "      <td>1.000000</td>\n",
       "      <td>3.000000</td>\n",
       "      <td>2359.000000</td>\n",
       "      <td>84.668890</td>\n",
       "      <td>3.000000</td>\n",
       "      <td>1386.000000</td>\n",
       "      <td>65.470000</td>\n",
       "      <td>3.000000</td>\n",
       "      <td>33272.000000</td>\n",
       "      <td>100.000000</td>\n",
       "    </tr>\n",
       "  </tbody>\n",
       "</table>\n",
       "<p>8 rows × 30 columns</p>\n",
       "</div>"
      ],
      "text/plain": [
       "               temp          icon          baro          wind            wd  \\\n",
       "count  25206.000000  25296.000000  25296.000000  25296.000000  25296.000000   \n",
       "mean      12.842260      9.662951   1012.470114     13.205408    164.592030   \n",
       "std        7.238643      7.097960     61.207146      6.300860    111.144594   \n",
       "min       -8.000000      1.000000      0.000000      0.000000      0.000000   \n",
       "25%        7.500000      2.000000   1011.000000      9.000000     50.000000   \n",
       "50%       12.000000      9.000000   1017.000000     12.000000    190.000000   \n",
       "75%       18.000000     14.000000   1022.000000     17.000000    250.000000   \n",
       "max       40.000000     36.000000   1046.000000     45.000000    350.000000   \n",
       "\n",
       "                hum          rain           fog       thunder          snow  \\\n",
       "count  25296.000000  25536.000000  25536.000000  25536.000000  25536.000000   \n",
       "mean      73.117173      0.050282      0.075658      0.002820      0.003289   \n",
       "std       18.657378      0.218530      0.264455      0.053026      0.057261   \n",
       "min        0.000000      0.000000      0.000000      0.000000      0.000000   \n",
       "25%       59.000000      0.000000      0.000000      0.000000      0.000000   \n",
       "50%       77.000000      0.000000      0.000000      0.000000      0.000000   \n",
       "75%       88.000000      0.000000      0.000000      0.000000      0.000000   \n",
       "max      100.000000      1.000000      1.000000      1.000000      1.000000   \n",
       "\n",
       "       ...        curfew  etat_barre_ce          q_ce          k_ce  \\\n",
       "count  ...  25536.000000   25483.000000  22851.000000  22278.000000   \n",
       "mean   ...      0.005091       2.978378    884.838563     10.808077   \n",
       "std    ...      0.071170       0.145450    492.173746      9.708492   \n",
       "min    ...      0.000000       2.000000      0.000000      0.000000   \n",
       "25%    ...      0.000000       3.000000    469.000000      4.150278   \n",
       "50%    ...      0.000000       3.000000    925.000000      8.038055   \n",
       "75%    ...      0.000000       3.000000   1190.000000     14.166528   \n",
       "max    ...      1.000000       3.000000   2359.000000     84.668890   \n",
       "\n",
       "       etat_barre_lc          q_lc          k_lc  etat_barre_pv          q_pv  \\\n",
       "count   25486.000000  25249.000000  25256.000000   25485.000000  24152.000000   \n",
       "mean        2.999882    588.272050      7.034260       2.929880    406.892224   \n",
       "std         0.010849    336.412841      8.926217       0.255354    333.415803   \n",
       "min         2.000000      8.000000      0.016670       2.000000      1.000000   \n",
       "25%         3.000000    273.000000      1.576532       3.000000    161.000000   \n",
       "50%         3.000000    596.000000      3.614170       3.000000    420.000000   \n",
       "75%         3.000000    891.000000      8.037637       3.000000    613.000000   \n",
       "max         3.000000   1386.000000     65.470000       3.000000  33272.000000   \n",
       "\n",
       "               k_pv  \n",
       "count  24153.000000  \n",
       "mean       5.756469  \n",
       "std        4.939353  \n",
       "min        0.000000  \n",
       "25%        1.928330  \n",
       "50%        5.008330  \n",
       "75%        7.989450  \n",
       "max      100.000000  \n",
       "\n",
       "[8 rows x 30 columns]"
      ]
     },
     "execution_count": 5,
     "metadata": {},
     "output_type": "execute_result"
    }
   ],
   "source": [
    "data.describe()"
   ]
  },
  {
   "cell_type": "markdown",
   "metadata": {},
   "source": [
    "# Baseline"
   ]
  },
  {
   "cell_type": "markdown",
   "metadata": {},
   "source": [
    "## Data"
   ]
  },
  {
   "cell_type": "markdown",
   "metadata": {},
   "source": [
    "## Champs Elysées"
   ]
  },
  {
   "cell_type": "markdown",
   "metadata": {},
   "source": [
    "### Prophet normal"
   ]
  },
  {
   "cell_type": "code",
   "execution_count": 6,
   "metadata": {},
   "outputs": [],
   "source": [
    "X_q = data[['Datetime', 'q_ce']]\n",
    "X_k = data[['Datetime', 'k_ce']]\n",
    "X_q.columns = ['ds', 'y']\n",
    "X_k.columns = ['ds', 'y']"
   ]
  },
  {
   "cell_type": "code",
   "execution_count": 31,
   "metadata": {},
   "outputs": [
    {
     "data": {
      "text/plain": [
       "<fbprophet.forecaster.Prophet at 0x7f7f63a35040>"
      ]
     },
     "execution_count": 31,
     "metadata": {},
     "output_type": "execute_result"
    }
   ],
   "source": [
    "model_q = Prophet()\n",
    "model_k = Prophet()\n",
    "model_q.fit(X_q)\n",
    "model_k.fit(X_k)"
   ]
  },
  {
   "cell_type": "code",
   "execution_count": 36,
   "metadata": {},
   "outputs": [
    {
     "name": "stderr",
     "output_type": "stream",
     "text": [
      "INFO:fbprophet:Making 8 forecasts with cutoffs between 2020-10-20 23:00:00 and 2020-11-24 23:00:00\n"
     ]
    },
    {
     "name": "stdout",
     "output_type": "stream",
     "text": [
      "\n"
     ]
    },
    {
     "data": {
      "application/vnd.jupyter.widget-view+json": {
       "model_id": "0c0167dfe59e40778aaac5cfdcd09aa4",
       "version_major": 2,
       "version_minor": 0
      },
      "text/plain": [
       "HBox(children=(HTML(value=''), FloatProgress(value=0.0, max=8.0), HTML(value='')))"
      ]
     },
     "metadata": {},
     "output_type": "display_data"
    },
    {
     "name": "stdout",
     "output_type": "stream",
     "text": [
      "\n"
     ]
    },
    {
     "name": "stderr",
     "output_type": "stream",
     "text": [
      "INFO:fbprophet:Making 8 forecasts with cutoffs between 2020-10-20 23:00:00 and 2020-11-24 23:00:00\n"
     ]
    },
    {
     "data": {
      "application/vnd.jupyter.widget-view+json": {
       "model_id": "e2454f9ac1e34712baad78e459cc211a",
       "version_major": 2,
       "version_minor": 0
      },
      "text/plain": [
       "HBox(children=(HTML(value=''), FloatProgress(value=0.0, max=8.0), HTML(value='')))"
      ]
     },
     "metadata": {},
     "output_type": "display_data"
    },
    {
     "name": "stdout",
     "output_type": "stream",
     "text": [
      "\n"
     ]
    }
   ],
   "source": [
    "df_cv_q = cross_validation(model_q, initial='1022 days', period='5 days', horizon = '5 days')\n",
    "df_cv_k = cross_validation(model_k, initial='1022 days', period='5 days', horizon = '5 days')"
   ]
  },
  {
   "cell_type": "code",
   "execution_count": 40,
   "metadata": {},
   "outputs": [],
   "source": [
    "df_p_q = performance_metrics(df_cv_q)\n",
    "df_p_k = performance_metrics(df_cv_k)"
   ]
  },
  {
   "cell_type": "code",
   "execution_count": 46,
   "metadata": {},
   "outputs": [
    {
     "name": "stdout",
     "output_type": "stream",
     "text": [
      "RMSE for q = 306.55536225771084\n",
      "RMSE for k = 5.31593423362365\n"
     ]
    }
   ],
   "source": [
    "print(f\"RMSE for q = {df_p_q.rmse.mean()}\")\n",
    "print(f\"RMSE for k = {df_p_k.rmse.mean()}\")"
   ]
  },
  {
   "cell_type": "markdown",
   "metadata": {},
   "source": [
    "### Neural Prophet"
   ]
  },
  {
   "cell_type": "code",
   "execution_count": 7,
   "metadata": {},
   "outputs": [],
   "source": [
    "## FILL MISSING VALUES AS NEURALPROPHET CAN'T HANDLE THEM\n",
    "X_q = pd.DataFrame({'y': X_q.y.tolist()}, index=pd.to_datetime(X_q.ds)).interpolate(method='time').reset_index()\n",
    "X_k = pd.DataFrame({'y': X_k.y.tolist()}, index=pd.to_datetime(X_k.ds)).interpolate(method='time').reset_index()"
   ]
  },
  {
   "cell_type": "code",
   "execution_count": 8,
   "metadata": {},
   "outputs": [],
   "source": [
    "forecast = ['2020-10-21', '2020-10-26', '2020-10-31', '2020-11-05', '2020-11-10', '2020-11-15', '2020-11-20', '2020-11-25']\n",
    "my_x_q = [X_q[X_q.ds < x] for x in forecast]\n",
    "my_x_k = [X_k[X_k.ds < x] for x in forecast]"
   ]
  },
  {
   "cell_type": "code",
   "execution_count": 9,
   "metadata": {
    "collapsed": true
   },
   "outputs": [
    {
     "name": "stderr",
     "output_type": "stream",
     "text": [
      "WARNING: nprophet - fit: Parts of code may break if using other than daily data.\n",
      "INFO: nprophet.config - set_auto_batch_epoch: Auto-set batch_size to 128\n"
     ]
    },
    {
     "data": {
      "application/vnd.jupyter.widget-view+json": {
       "model_id": "6f02f60472f847ce9dec38d805d02dc2",
       "version_major": 2,
       "version_minor": 0
      },
      "text/plain": [
       "HBox(children=(HTML(value=''), FloatProgress(value=0.0), HTML(value='')))"
      ]
     },
     "metadata": {},
     "output_type": "display_data"
    },
    {
     "name": "stderr",
     "output_type": "stream",
     "text": [
      "INFO: nprophet - _lr_range_test: learning rate range test found optimal lr: 2.31E-01\n",
      "Epoch[60/60]: 100%|██████████| 60/60 [00:38<00:00,  1.55it/s, SmoothL1Loss=0.0144, MAE=244, RegLoss=0]\n",
      "WARNING: nprophet - fit: Parts of code may break if using other than daily data.\n",
      "INFO: nprophet.config - set_auto_batch_epoch: Auto-set batch_size to 128\n"
     ]
    },
    {
     "data": {
      "application/vnd.jupyter.widget-view+json": {
       "model_id": "3b94ab179f024f10b881046b184d2610",
       "version_major": 2,
       "version_minor": 0
      },
      "text/plain": [
       "HBox(children=(HTML(value=''), FloatProgress(value=0.0), HTML(value='')))"
      ]
     },
     "metadata": {},
     "output_type": "display_data"
    },
    {
     "name": "stderr",
     "output_type": "stream",
     "text": [
      "INFO: nprophet - _lr_range_test: learning rate range test found optimal lr: 2.31E-01\n",
      "Epoch[60/60]: 100%|██████████| 60/60 [00:38<00:00,  1.55it/s, SmoothL1Loss=0.0145, MAE=244, RegLoss=0]\n",
      "WARNING: nprophet - fit: Parts of code may break if using other than daily data.\n",
      "INFO: nprophet.config - set_auto_batch_epoch: Auto-set batch_size to 128\n"
     ]
    },
    {
     "data": {
      "application/vnd.jupyter.widget-view+json": {
       "model_id": "18fd2eaeb2f448d19c071f7ccb0a8d7a",
       "version_major": 2,
       "version_minor": 0
      },
      "text/plain": [
       "HBox(children=(HTML(value=''), FloatProgress(value=0.0), HTML(value='')))"
      ]
     },
     "metadata": {},
     "output_type": "display_data"
    },
    {
     "name": "stderr",
     "output_type": "stream",
     "text": [
      "INFO: nprophet - _lr_range_test: learning rate range test found optimal lr: 2.31E-01\n",
      "Epoch[60/60]: 100%|██████████| 60/60 [00:42<00:00,  1.40it/s, SmoothL1Loss=0.0146, MAE=245, RegLoss=0]\n",
      "WARNING: nprophet - fit: Parts of code may break if using other than daily data.\n",
      "INFO: nprophet.config - set_auto_batch_epoch: Auto-set batch_size to 128\n"
     ]
    },
    {
     "data": {
      "application/vnd.jupyter.widget-view+json": {
       "model_id": "38b09dd90bf14b9c83f7c447d7b590f5",
       "version_major": 2,
       "version_minor": 0
      },
      "text/plain": [
       "HBox(children=(HTML(value=''), FloatProgress(value=0.0), HTML(value='')))"
      ]
     },
     "metadata": {},
     "output_type": "display_data"
    },
    {
     "name": "stderr",
     "output_type": "stream",
     "text": [
      "INFO: nprophet - _lr_range_test: learning rate range test found optimal lr: 1.87E-01\n",
      "Epoch[60/60]: 100%|██████████| 60/60 [00:40<00:00,  1.47it/s, SmoothL1Loss=0.0147, MAE=246, RegLoss=0]\n",
      "WARNING: nprophet - fit: Parts of code may break if using other than daily data.\n",
      "INFO: nprophet.config - set_auto_batch_epoch: Auto-set batch_size to 128\n"
     ]
    },
    {
     "data": {
      "application/vnd.jupyter.widget-view+json": {
       "model_id": "b90735aae3934b68ad8757bc659af0a6",
       "version_major": 2,
       "version_minor": 0
      },
      "text/plain": [
       "HBox(children=(HTML(value=''), FloatProgress(value=0.0), HTML(value='')))"
      ]
     },
     "metadata": {},
     "output_type": "display_data"
    },
    {
     "name": "stderr",
     "output_type": "stream",
     "text": [
      "INFO: nprophet - _lr_range_test: learning rate range test found optimal lr: 2.31E-01\n",
      "Epoch[60/60]: 100%|██████████| 60/60 [00:41<00:00,  1.45it/s, SmoothL1Loss=0.0148, MAE=247, RegLoss=0]\n",
      "WARNING: nprophet - fit: Parts of code may break if using other than daily data.\n",
      "INFO: nprophet.config - set_auto_batch_epoch: Auto-set batch_size to 128\n"
     ]
    },
    {
     "data": {
      "application/vnd.jupyter.widget-view+json": {
       "model_id": "69f0512f52464ac5b7a05d5b9c551cdc",
       "version_major": 2,
       "version_minor": 0
      },
      "text/plain": [
       "HBox(children=(HTML(value=''), FloatProgress(value=0.0), HTML(value='')))"
      ]
     },
     "metadata": {},
     "output_type": "display_data"
    },
    {
     "name": "stderr",
     "output_type": "stream",
     "text": [
      "INFO: nprophet - _lr_range_test: learning rate range test found optimal lr: 2.85E-01\n",
      "Epoch[60/60]: 100%|██████████| 60/60 [00:40<00:00,  1.47it/s, SmoothL1Loss=0.0149, MAE=248, RegLoss=0] \n",
      "WARNING: nprophet - fit: Parts of code may break if using other than daily data.\n",
      "INFO: nprophet.config - set_auto_batch_epoch: Auto-set batch_size to 128\n"
     ]
    },
    {
     "data": {
      "application/vnd.jupyter.widget-view+json": {
       "model_id": "f34e9f3c082a4428a995dd891a328f1f",
       "version_major": 2,
       "version_minor": 0
      },
      "text/plain": [
       "HBox(children=(HTML(value=''), FloatProgress(value=0.0), HTML(value='')))"
      ]
     },
     "metadata": {},
     "output_type": "display_data"
    },
    {
     "name": "stderr",
     "output_type": "stream",
     "text": [
      "INFO: nprophet - _lr_range_test: learning rate range test found optimal lr: 5.34E-01\n",
      "Epoch[60/60]: 100%|██████████| 60/60 [00:41<00:00,  1.44it/s, SmoothL1Loss=0.015, MAE=248, RegLoss=0] \n",
      "WARNING: nprophet - fit: Parts of code may break if using other than daily data.\n",
      "INFO: nprophet.config - set_auto_batch_epoch: Auto-set batch_size to 128\n"
     ]
    },
    {
     "data": {
      "application/vnd.jupyter.widget-view+json": {
       "model_id": "a490bb2d0ae84f8482afbeb2292912d4",
       "version_major": 2,
       "version_minor": 0
      },
      "text/plain": [
       "HBox(children=(HTML(value=''), FloatProgress(value=0.0), HTML(value='')))"
      ]
     },
     "metadata": {},
     "output_type": "display_data"
    },
    {
     "name": "stderr",
     "output_type": "stream",
     "text": [
      "INFO: nprophet - _lr_range_test: learning rate range test found optimal lr: 4.33E-01\n",
      "Epoch[60/60]: 100%|██████████| 60/60 [00:41<00:00,  1.43it/s, SmoothL1Loss=0.015, MAE=248, RegLoss=0] \n",
      "WARNING: nprophet - fit: Parts of code may break if using other than daily data.\n",
      "INFO: nprophet.config - set_auto_batch_epoch: Auto-set batch_size to 128\n"
     ]
    },
    {
     "data": {
      "application/vnd.jupyter.widget-view+json": {
       "model_id": "d67db6481c0e41f889f99eccb2b766e0",
       "version_major": 2,
       "version_minor": 0
      },
      "text/plain": [
       "HBox(children=(HTML(value=''), FloatProgress(value=0.0), HTML(value='')))"
      ]
     },
     "metadata": {},
     "output_type": "display_data"
    },
    {
     "name": "stderr",
     "output_type": "stream",
     "text": [
      "INFO: nprophet - _lr_range_test: learning rate range test found optimal lr: 3.51E-01\n",
      "Epoch[60/60]: 100%|██████████| 60/60 [00:40<00:00,  1.48it/s, SmoothL1Loss=0.0238, MAE=4.41, RegLoss=0]\n",
      "WARNING: nprophet - fit: Parts of code may break if using other than daily data.\n",
      "INFO: nprophet.config - set_auto_batch_epoch: Auto-set batch_size to 128\n"
     ]
    },
    {
     "data": {
      "application/vnd.jupyter.widget-view+json": {
       "model_id": "a3b2a9d3c78348169b10b837097cb7ff",
       "version_major": 2,
       "version_minor": 0
      },
      "text/plain": [
       "HBox(children=(HTML(value=''), FloatProgress(value=0.0), HTML(value='')))"
      ]
     },
     "metadata": {},
     "output_type": "display_data"
    },
    {
     "name": "stderr",
     "output_type": "stream",
     "text": [
      "INFO: nprophet - _lr_range_test: learning rate range test found optimal lr: 6.58E-01\n",
      "Epoch[60/60]: 100%|██████████| 60/60 [00:43<00:00,  1.39it/s, SmoothL1Loss=0.0239, MAE=4.44, RegLoss=0]\n",
      "WARNING: nprophet - fit: Parts of code may break if using other than daily data.\n",
      "INFO: nprophet.config - set_auto_batch_epoch: Auto-set batch_size to 128\n"
     ]
    },
    {
     "data": {
      "application/vnd.jupyter.widget-view+json": {
       "model_id": "23e876601f644fedbee3ac57a42d5051",
       "version_major": 2,
       "version_minor": 0
      },
      "text/plain": [
       "HBox(children=(HTML(value=''), FloatProgress(value=0.0), HTML(value='')))"
      ]
     },
     "metadata": {},
     "output_type": "display_data"
    },
    {
     "name": "stderr",
     "output_type": "stream",
     "text": [
      "INFO: nprophet - _lr_range_test: learning rate range test found optimal lr: 2.31E-01\n",
      "Epoch[60/60]: 100%|██████████| 60/60 [00:40<00:00,  1.48it/s, SmoothL1Loss=0.0239, MAE=4.44, RegLoss=0]\n",
      "WARNING: nprophet - fit: Parts of code may break if using other than daily data.\n",
      "INFO: nprophet.config - set_auto_batch_epoch: Auto-set batch_size to 128\n"
     ]
    },
    {
     "data": {
      "application/vnd.jupyter.widget-view+json": {
       "model_id": "2eb503c7b83b4a4f9601ecc9e5b1ee3a",
       "version_major": 2,
       "version_minor": 0
      },
      "text/plain": [
       "HBox(children=(HTML(value=''), FloatProgress(value=0.0), HTML(value='')))"
      ]
     },
     "metadata": {},
     "output_type": "display_data"
    },
    {
     "name": "stderr",
     "output_type": "stream",
     "text": [
      "INFO: nprophet - _lr_range_test: learning rate range test found optimal lr: 2.85E-01\n",
      "Epoch[60/60]: 100%|██████████| 60/60 [00:40<00:00,  1.47it/s, SmoothL1Loss=0.024, MAE=4.44, RegLoss=0] \n",
      "WARNING: nprophet - fit: Parts of code may break if using other than daily data.\n",
      "INFO: nprophet.config - set_auto_batch_epoch: Auto-set batch_size to 128\n"
     ]
    },
    {
     "data": {
      "application/vnd.jupyter.widget-view+json": {
       "model_id": "cf9f2402e5bc4b69a4e0e5da7617090d",
       "version_major": 2,
       "version_minor": 0
      },
      "text/plain": [
       "HBox(children=(HTML(value=''), FloatProgress(value=0.0), HTML(value='')))"
      ]
     },
     "metadata": {},
     "output_type": "display_data"
    },
    {
     "name": "stderr",
     "output_type": "stream",
     "text": [
      "INFO: nprophet - _lr_range_test: learning rate range test found optimal lr: 3.51E-01\n",
      "Epoch[60/60]: 100%|██████████| 60/60 [00:40<00:00,  1.48it/s, SmoothL1Loss=0.0241, MAE=4.45, RegLoss=0]\n",
      "WARNING: nprophet - fit: Parts of code may break if using other than daily data.\n",
      "INFO: nprophet.config - set_auto_batch_epoch: Auto-set batch_size to 128\n"
     ]
    },
    {
     "data": {
      "application/vnd.jupyter.widget-view+json": {
       "model_id": "eb7fa3ec662e487e8d57b779b7fc8961",
       "version_major": 2,
       "version_minor": 0
      },
      "text/plain": [
       "HBox(children=(HTML(value=''), FloatProgress(value=0.0), HTML(value='')))"
      ]
     },
     "metadata": {},
     "output_type": "display_data"
    },
    {
     "name": "stderr",
     "output_type": "stream",
     "text": [
      "INFO: nprophet - _lr_range_test: learning rate range test found optimal lr: 5.34E-01\n",
      "Epoch[60/60]: 100%|██████████| 60/60 [00:40<00:00,  1.47it/s, SmoothL1Loss=0.0241, MAE=4.47, RegLoss=0]\n",
      "WARNING: nprophet - fit: Parts of code may break if using other than daily data.\n",
      "INFO: nprophet.config - set_auto_batch_epoch: Auto-set batch_size to 128\n"
     ]
    },
    {
     "data": {
      "application/vnd.jupyter.widget-view+json": {
       "model_id": "0017dfe7b53f4ad4a7efd477a817e6ee",
       "version_major": 2,
       "version_minor": 0
      },
      "text/plain": [
       "HBox(children=(HTML(value=''), FloatProgress(value=0.0), HTML(value='')))"
      ]
     },
     "metadata": {},
     "output_type": "display_data"
    },
    {
     "name": "stderr",
     "output_type": "stream",
     "text": [
      "INFO: nprophet - _lr_range_test: learning rate range test found optimal lr: 8.11E-01\n",
      "Epoch[60/60]: 100%|██████████| 60/60 [00:40<00:00,  1.47it/s, SmoothL1Loss=0.0241, MAE=4.47, RegLoss=0]\n",
      "WARNING: nprophet - fit: Parts of code may break if using other than daily data.\n",
      "INFO: nprophet.config - set_auto_batch_epoch: Auto-set batch_size to 128\n"
     ]
    },
    {
     "data": {
      "application/vnd.jupyter.widget-view+json": {
       "model_id": "b3e1ac5833ef412c85e0fe9ddd1df292",
       "version_major": 2,
       "version_minor": 0
      },
      "text/plain": [
       "HBox(children=(HTML(value=''), FloatProgress(value=0.0), HTML(value='')))"
      ]
     },
     "metadata": {},
     "output_type": "display_data"
    },
    {
     "name": "stderr",
     "output_type": "stream",
     "text": [
      "INFO: nprophet - _lr_range_test: learning rate range test found optimal lr: 2.31E-01\n",
      "Epoch[60/60]: 100%|██████████| 60/60 [00:39<00:00,  1.50it/s, SmoothL1Loss=0.0241, MAE=4.43, RegLoss=0]\n"
     ]
    }
   ],
   "source": [
    "lst_model_q = []\n",
    "lst_model_k = []\n",
    "for data_q in my_x_q:\n",
    "    model_q = NeuralProphet()\n",
    "    metrics = model_q.fit(data_q, freq='h', epochs=60)\n",
    "    lst_model_q.append(model_q)\n",
    "for data_k in my_x_k:\n",
    "    model_k = NeuralProphet()\n",
    "    metrics = model_k.fit(data_k, freq='h', epochs=60)\n",
    "    lst_model_k.append(model_k)"
   ]
  },
  {
   "cell_type": "code",
   "execution_count": 35,
   "metadata": {},
   "outputs": [],
   "source": [
    "def rmse(y_true, y_pred):\n",
    "    return np.sqrt(np.mean((y_true-y_pred)**2))"
   ]
  },
  {
   "cell_type": "code",
   "execution_count": 36,
   "metadata": {},
   "outputs": [],
   "source": [
    "forecast = ['2020-10-21', '2020-10-26', '2020-10-31', '2020-11-05', '2020-11-10', '2020-11-15', '2020-11-20', '2020-11-25', '2020-11-30']\n",
    "rmse_q = []\n",
    "rmse_k = []\n",
    "for index, x in enumerate(zip(lst_model_q, my_x_q)):\n",
    "    model, df, i = x[0], x[1], index\n",
    "    future = model.make_future_dataframe(df, periods=120)\n",
    "    y_pred, y_true = model.predict(future).yhat1.values, X_q[(X_q.ds >= forecast[i]) & (X_q.ds < forecast[i+1])].y.values\n",
    "    rmse_q.append(rmse(y_true, y_pred))\n",
    "for index, x in enumerate(zip(lst_model_k, my_x_k)):\n",
    "    model, df, i = x[0], x[1], index\n",
    "    future = model.make_future_dataframe(df, periods=120)\n",
    "    y_pred, y_true = model.predict(future).yhat1.values, X_k[(X_k.ds >= forecast[i]) & (X_k.ds < forecast[i+1])].y.values\n",
    "    rmse_k.append(rmse(y_true, y_pred))"
   ]
  },
  {
   "cell_type": "code",
   "execution_count": 38,
   "metadata": {
    "scrolled": true
   },
   "outputs": [
    {
     "name": "stdout",
     "output_type": "stream",
     "text": [
      "RMSE for q = 324.8281161055366\n",
      "RMSE for k = 5.715858301351767\n"
     ]
    }
   ],
   "source": [
    "print(f\"RMSE for q = {sum(rmse_q)/len(rmse_q)}\")\n",
    "print(f\"RMSE for k = {sum(rmse_k)/len(rmse_k)}\")"
   ]
  },
  {
   "cell_type": "markdown",
   "metadata": {},
   "source": [
    "# Baseline with less data"
   ]
  },
  {
   "cell_type": "code",
   "execution_count": 39,
   "metadata": {},
   "outputs": [],
   "source": [
    "data = data[(data.Datetime < '2020-11-30') & (data.Datetime >= '2019-10-01')]\n",
    "X_q = data[['Datetime', 'q_ce']]\n",
    "X_k = data[['Datetime', 'k_ce']]\n",
    "X_q.columns = ['ds', 'y']\n",
    "X_k.columns = ['ds', 'y']\n",
    "## FILL MISSING VALUES AS NEURALPROPHET CAN'T HANDLE THEM\n",
    "X_q = pd.DataFrame({'y': X_q.y.tolist()}, index=pd.to_datetime(X_q.ds)).interpolate(method='time').reset_index()\n",
    "X_k = pd.DataFrame({'y': X_k.y.tolist()}, index=pd.to_datetime(X_k.ds)).interpolate(method='time').reset_index()\n",
    "forecast = ['2020-10-21', '2020-10-26', '2020-10-31', '2020-11-05', '2020-11-10', '2020-11-15', '2020-11-20', '2020-11-25']\n",
    "my_x_q = [X_q[X_q.ds < x] for x in forecast]\n",
    "my_x_k = [X_k[X_k.ds < x] for x in forecast]"
   ]
  },
  {
   "cell_type": "code",
   "execution_count": 47,
   "metadata": {},
   "outputs": [
    {
     "name": "stderr",
     "output_type": "stream",
     "text": [
      "WARNING: nprophet - fit: Parts of code may break if using other than daily data.\n",
      "INFO: nprophet.utils - set_auto_seasonalities: Disabling yearly seasonality. Run NeuralProphet with yearly_seasonality=True to override this.\n",
      "INFO: nprophet.config - set_auto_batch_epoch: Auto-set batch_size to 32\n",
      "Epoch[100/100]: 100%|██████████| 100/100 [00:42<00:00,  2.38it/s, SmoothL1Loss=0.0142, MAE=197, RegLoss=0] \n",
      "WARNING: nprophet - fit: Parts of code may break if using other than daily data.\n",
      "INFO: nprophet.utils - set_auto_seasonalities: Disabling yearly seasonality. Run NeuralProphet with yearly_seasonality=True to override this.\n",
      "INFO: nprophet.config - set_auto_batch_epoch: Auto-set batch_size to 32\n",
      "Epoch[100/100]: 100%|██████████| 100/100 [00:42<00:00,  2.34it/s, SmoothL1Loss=0.0145, MAE=200, RegLoss=0] \n",
      "WARNING: nprophet - fit: Parts of code may break if using other than daily data.\n",
      "INFO: nprophet.utils - set_auto_seasonalities: Disabling yearly seasonality. Run NeuralProphet with yearly_seasonality=True to override this.\n",
      "INFO: nprophet.config - set_auto_batch_epoch: Auto-set batch_size to 32\n",
      "Epoch[100/100]: 100%|██████████| 100/100 [00:43<00:00,  2.31it/s, SmoothL1Loss=0.0151, MAE=204, RegLoss=0]\n",
      "WARNING: nprophet - fit: Parts of code may break if using other than daily data.\n",
      "INFO: nprophet.utils - set_auto_seasonalities: Disabling yearly seasonality. Run NeuralProphet with yearly_seasonality=True to override this.\n",
      "INFO: nprophet.config - set_auto_batch_epoch: Auto-set batch_size to 32\n",
      "Epoch[100/100]: 100%|██████████| 100/100 [00:42<00:00,  2.33it/s, SmoothL1Loss=0.0158, MAE=210, RegLoss=0]\n",
      "WARNING: nprophet - fit: Parts of code may break if using other than daily data.\n",
      "INFO: nprophet.utils - set_auto_seasonalities: Disabling yearly seasonality. Run NeuralProphet with yearly_seasonality=True to override this.\n",
      "INFO: nprophet.config - set_auto_batch_epoch: Auto-set batch_size to 32\n",
      "Epoch[100/100]: 100%|██████████| 100/100 [00:43<00:00,  2.31it/s, SmoothL1Loss=0.0164, MAE=214, RegLoss=0]\n",
      "WARNING: nprophet - fit: Parts of code may break if using other than daily data.\n",
      "INFO: nprophet.utils - set_auto_seasonalities: Disabling yearly seasonality. Run NeuralProphet with yearly_seasonality=True to override this.\n",
      "INFO: nprophet.config - set_auto_batch_epoch: Auto-set batch_size to 32\n",
      "Epoch[100/100]: 100%|██████████| 100/100 [00:44<00:00,  2.27it/s, SmoothL1Loss=0.0168, MAE=217, RegLoss=0] \n",
      "WARNING: nprophet - fit: Parts of code may break if using other than daily data.\n",
      "INFO: nprophet.utils - set_auto_seasonalities: Disabling yearly seasonality. Run NeuralProphet with yearly_seasonality=True to override this.\n",
      "INFO: nprophet.config - set_auto_batch_epoch: Auto-set batch_size to 32\n",
      "Epoch[100/100]: 100%|██████████| 100/100 [00:44<00:00,  2.22it/s, SmoothL1Loss=0.017, MAE=219, RegLoss=0]  \n",
      "WARNING: nprophet - fit: Parts of code may break if using other than daily data.\n",
      "INFO: nprophet.utils - set_auto_seasonalities: Disabling yearly seasonality. Run NeuralProphet with yearly_seasonality=True to override this.\n",
      "INFO: nprophet.config - set_auto_batch_epoch: Auto-set batch_size to 128\n",
      "Epoch[100/100]: 100%|██████████| 100/100 [00:23<00:00,  4.23it/s, SmoothL1Loss=0.0223, MAE=253, RegLoss=0] \n",
      "WARNING: nprophet - fit: Parts of code may break if using other than daily data.\n",
      "INFO: nprophet.utils - set_auto_seasonalities: Disabling yearly seasonality. Run NeuralProphet with yearly_seasonality=True to override this.\n",
      "INFO: nprophet.config - set_auto_batch_epoch: Auto-set batch_size to 32\n",
      "Epoch[100/100]: 100%|██████████| 100/100 [00:40<00:00,  2.49it/s, SmoothL1Loss=0.022, MAE=5.73, RegLoss=0]\n",
      "WARNING: nprophet - fit: Parts of code may break if using other than daily data.\n",
      "INFO: nprophet.utils - set_auto_seasonalities: Disabling yearly seasonality. Run NeuralProphet with yearly_seasonality=True to override this.\n",
      "INFO: nprophet.config - set_auto_batch_epoch: Auto-set batch_size to 32\n",
      "Epoch[100/100]: 100%|██████████| 100/100 [00:41<00:00,  2.43it/s, SmoothL1Loss=0.0221, MAE=5.74, RegLoss=0]\n",
      "WARNING: nprophet - fit: Parts of code may break if using other than daily data.\n",
      "INFO: nprophet.utils - set_auto_seasonalities: Disabling yearly seasonality. Run NeuralProphet with yearly_seasonality=True to override this.\n",
      "INFO: nprophet.config - set_auto_batch_epoch: Auto-set batch_size to 32\n",
      "Epoch[100/100]: 100%|██████████| 100/100 [00:41<00:00,  2.40it/s, SmoothL1Loss=0.0223, MAE=5.76, RegLoss=0]\n",
      "WARNING: nprophet - fit: Parts of code may break if using other than daily data.\n",
      "INFO: nprophet.utils - set_auto_seasonalities: Disabling yearly seasonality. Run NeuralProphet with yearly_seasonality=True to override this.\n",
      "INFO: nprophet.config - set_auto_batch_epoch: Auto-set batch_size to 32\n",
      "Epoch[100/100]: 100%|██████████| 100/100 [00:42<00:00,  2.34it/s, SmoothL1Loss=0.0227, MAE=5.81, RegLoss=0]\n",
      "WARNING: nprophet - fit: Parts of code may break if using other than daily data.\n",
      "INFO: nprophet.utils - set_auto_seasonalities: Disabling yearly seasonality. Run NeuralProphet with yearly_seasonality=True to override this.\n",
      "INFO: nprophet.config - set_auto_batch_epoch: Auto-set batch_size to 32\n",
      "Epoch[100/100]: 100%|██████████| 100/100 [00:42<00:00,  2.34it/s, SmoothL1Loss=0.0229, MAE=5.86, RegLoss=0]\n",
      "WARNING: nprophet - fit: Parts of code may break if using other than daily data.\n",
      "INFO: nprophet.utils - set_auto_seasonalities: Disabling yearly seasonality. Run NeuralProphet with yearly_seasonality=True to override this.\n",
      "INFO: nprophet.config - set_auto_batch_epoch: Auto-set batch_size to 32\n",
      "Epoch[100/100]: 100%|██████████| 100/100 [00:44<00:00,  2.27it/s, SmoothL1Loss=0.0232, MAE=5.88, RegLoss=0]\n",
      "WARNING: nprophet - fit: Parts of code may break if using other than daily data.\n",
      "INFO: nprophet.utils - set_auto_seasonalities: Disabling yearly seasonality. Run NeuralProphet with yearly_seasonality=True to override this.\n",
      "INFO: nprophet.config - set_auto_batch_epoch: Auto-set batch_size to 32\n",
      "Epoch[100/100]: 100%|██████████| 100/100 [00:43<00:00,  2.28it/s, SmoothL1Loss=0.0232, MAE=5.9, RegLoss=0]\n",
      "WARNING: nprophet - fit: Parts of code may break if using other than daily data.\n",
      "INFO: nprophet.utils - set_auto_seasonalities: Disabling yearly seasonality. Run NeuralProphet with yearly_seasonality=True to override this.\n",
      "INFO: nprophet.config - set_auto_batch_epoch: Auto-set batch_size to 128\n",
      "Epoch[100/100]: 100%|██████████| 100/100 [00:23<00:00,  4.24it/s, SmoothL1Loss=0.0337, MAE=6.82, RegLoss=0]\n"
     ]
    }
   ],
   "source": [
    "lst_model_q = []\n",
    "lst_model_k = []\n",
    "for data_q in my_x_q:\n",
    "    model_q = NeuralProphet(learning_rate = 0.001)\n",
    "    metrics = model_q.fit(data_q, freq='h', epochs=100)\n",
    "    lst_model_q.append(model_q)\n",
    "for data_k in my_x_k:\n",
    "    model_k = NeuralProphet( learning_rate = 0.001)\n",
    "    metrics = model_k.fit(data_k, freq='h', epochs=100)\n",
    "    lst_model_k.append(model_k)"
   ]
  },
  {
   "cell_type": "code",
   "execution_count": 48,
   "metadata": {},
   "outputs": [],
   "source": [
    "forecast = ['2020-10-21', '2020-10-26', '2020-10-31', '2020-11-05', '2020-11-10', '2020-11-15', '2020-11-20', '2020-11-25', '2020-11-30']\n",
    "rmse_q = []\n",
    "rmse_k = []\n",
    "for index, x in enumerate(zip(lst_model_q, my_x_q)):\n",
    "    model, df, i = x[0], x[1], index\n",
    "    future = model.make_future_dataframe(df, periods=120)\n",
    "    y_pred, y_true = model.predict(future).yhat1.values, X_q[(X_q.ds >= forecast[i]) & (X_q.ds < forecast[i+1])].y.values\n",
    "    rmse_q.append(rmse(y_true, y_pred))\n",
    "for index, x in enumerate(zip(lst_model_k, my_x_k)):\n",
    "    model, df, i = x[0], x[1], index\n",
    "    future = model.make_future_dataframe(df, periods=120)\n",
    "    y_pred, y_true = model.predict(future).yhat1.values, X_k[(X_k.ds >= forecast[i]) & (X_k.ds < forecast[i+1])].y.values\n",
    "    rmse_k.append(rmse(y_true, y_pred))"
   ]
  },
  {
   "cell_type": "code",
   "execution_count": 49,
   "metadata": {},
   "outputs": [
    {
     "name": "stdout",
     "output_type": "stream",
     "text": [
      "RMSE for q = 327.7938334312713\n",
      "RMSE for k = 6.443125430269929\n"
     ]
    }
   ],
   "source": [
    "print(f\"RMSE for q = {sum(rmse_q)/len(rmse_q)}\")\n",
    "print(f\"RMSE for k = {sum(rmse_k)/len(rmse_k)}\")"
   ]
  },
  {
   "cell_type": "markdown",
   "metadata": {},
   "source": [
    "The errors increased .."
   ]
  },
  {
   "cell_type": "code",
   "execution_count": null,
   "metadata": {},
   "outputs": [],
   "source": []
  }
 ],
 "metadata": {
  "kernelspec": {
   "display_name": "Python 3",
   "language": "python",
   "name": "python3"
  },
  "language_info": {
   "codemirror_mode": {
    "name": "ipython",
    "version": 3
   },
   "file_extension": ".py",
   "mimetype": "text/x-python",
   "name": "python",
   "nbconvert_exporter": "python",
   "pygments_lexer": "ipython3",
   "version": "3.8.3"
  }
 },
 "nbformat": 4,
 "nbformat_minor": 4
}
